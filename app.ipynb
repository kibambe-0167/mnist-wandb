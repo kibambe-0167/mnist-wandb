{
 "cells": [
  {
   "cell_type": "code",
   "execution_count": 15,
   "id": "e25374b3",
   "metadata": {},
   "outputs": [
    {
     "data": {
      "text/plain": [
       "True"
      ]
     },
     "execution_count": 15,
     "metadata": {},
     "output_type": "execute_result"
    }
   ],
   "source": [
    "from sklearn.metrics import classification_report, confusion_matrix, roc_auc_score, roc_curve\n",
    "import torchvision.transforms as transforms\n",
    "from torch.utils.data import DataLoader\n",
    "from torchvision.datasets import MNIST\n",
    "import matplotlib.pyplot as plt\n",
    "from torchinfo import summary\n",
    "import seaborn as sns\n",
    "import torch.nn as nn\n",
    "from tqdm import tqdm\n",
    "import numpy as np\n",
    "import random\n",
    "import wandb\n",
    "import torch\n",
    "\n",
    "# \n",
    "torch.manual_seed(43)\n",
    "np.random.seed(43)\n",
    "random.seed(43)\n",
    "\n",
    "wandb.login()"
   ]
  },
  {
   "cell_type": "markdown",
   "id": "5635065d",
   "metadata": {},
   "source": [
    "# Configs"
   ]
  },
  {
   "cell_type": "code",
   "execution_count": 16,
   "id": "7cff7c1f",
   "metadata": {},
   "outputs": [
    {
     "data": {
      "text/plain": [
       "'mps'"
      ]
     },
     "execution_count": 16,
     "metadata": {},
     "output_type": "execute_result"
    }
   ],
   "source": [
    "LEARNING_RATE = 1e-3\n",
    "BATCH_SIZE = 128\n",
    "NUM_CLASSES = 10\n",
    "EPOCHS = 200\n",
    "\n",
    "\n",
    "transform_func = transforms.Compose([\n",
    "  transforms.ToTensor(),\n",
    "  transforms.Normalize(mean=(0.1307,), std=(0.3080,)) # from prev comp mnist u=0.1307 std=0.3081\n",
    "])\n",
    "\n",
    "\n",
    "DEVICE = 'cpu'\n",
    "if torch.mps.is_available(): DEVICE = 'mps'\n",
    "if torch.cuda.is_available(): DEVICE = 'cuda'\n",
    "DEVICE"
   ]
  },
  {
   "cell_type": "code",
   "execution_count": null,
   "id": "c8aebc17",
   "metadata": {},
   "outputs": [],
   "source": [
    "wandb_run = wandb.init(\n",
    "  project=\"learn-wandb\",\n",
    "  config={\n",
    "    \"learning_rate\": LEARNING_RATE,\n",
    "    \"epochs\": EPOCHS,\n",
    "    \"dataset\": \"mnist\",\n",
    "    \"architecture\": \"conv + adaptive + linear layers\",\n",
    "    \"batch_size\": BATCH_SIZE,\n",
    "  }\n",
    ")"
   ]
  },
  {
   "cell_type": "markdown",
   "id": "50214e09",
   "metadata": {},
   "source": [
    "# Data"
   ]
  },
  {
   "cell_type": "markdown",
   "id": "a136243b",
   "metadata": {},
   "source": [
    "## Train"
   ]
  },
  {
   "cell_type": "code",
   "execution_count": 18,
   "id": "7bf4d543",
   "metadata": {},
   "outputs": [
    {
     "name": "stdout",
     "output_type": "stream",
     "text": [
      "\n",
      "  data samples: 60000\n",
      "  number batch: 469\n",
      "\n"
     ]
    }
   ],
   "source": [
    "# train data\n",
    "train_data = MNIST(root='./data/', train=True, download=True, transform=transform_func)\n",
    "\n",
    "NUM_CLASSES= np.unique(train_data.targets).__len__()\n",
    "\n",
    "train_loader = DataLoader(train_data, batch_size=BATCH_SIZE, shuffle=True,)\n",
    "\n",
    "print(\n",
    "  f\"\"\"\n",
    "  data samples: {train_loader.dataset.__len__()}\n",
    "  number batch: {train_loader.__len__()}\n",
    "\"\"\"\n",
    ")\n"
   ]
  },
  {
   "cell_type": "code",
   "execution_count": 19,
   "id": "80557582",
   "metadata": {},
   "outputs": [
    {
     "name": "stdout",
     "output_type": "stream",
     "text": [
      "torch.Size([28, 28]) 0\n"
     ]
    },
    {
     "data": {
      "image/png": "[encoded data removed]",
      "text/plain": [
       "<Figure size 640x480 with 1 Axes>"
      ]
     },
     "metadata": {},
     "output_type": "display_data"
    }
   ],
   "source": [
    "idx = np.random.randint(0, train_loader.dataset.__len__() )\n",
    "img = train_data.data[idx]\n",
    "img_label = train_data.targets[idx].item()\n",
    "\n",
    "print(img.shape, img_label)\n",
    "\n",
    "img = img.unsqueeze(0)\n",
    "img = img.permute(1, 2, 0)\n",
    "img.shape\n",
    "\n",
    "plt.imshow(img)\n",
    "plt.title(f\"Sample image @ {idx} | Label: {img_label}\")\n",
    "plt.show()"
   ]
  },
  {
   "cell_type": "code",
   "execution_count": 20,
   "id": "2d358b72",
   "metadata": {},
   "outputs": [
    {
     "data": {
      "image/png": "[encoded data removed]",
      "text/plain": [
       "<Figure size 600x300 with 1 Axes>"
      ]
     },
     "metadata": {},
     "output_type": "display_data"
    }
   ],
   "source": [
    "train_labels = train_data.targets\n",
    "labels_counts = torch.bincount(train_labels)\n",
    "\n",
    "labels = [str(i) for i in range(10)]\n",
    "\n",
    "plt.figure(figsize=(6, 3))\n",
    "plt.bar(labels, labels_counts.numpy())\n",
    "plt.title(\"Data labels frequency\")\n",
    "plt.ylabel(\"Counts\")\n",
    "plt.xlabel(\"Digits\")\n",
    "plt.show()"
   ]
  },
  {
   "cell_type": "markdown",
   "id": "c898338c",
   "metadata": {},
   "source": [
    "## Test"
   ]
  },
  {
   "cell_type": "code",
   "execution_count": 21,
   "id": "bfc18b2b",
   "metadata": {},
   "outputs": [
    {
     "name": "stdout",
     "output_type": "stream",
     "text": [
      "\n",
      "  data samples: 10000\n",
      "  number batch: 79\n",
      "\n"
     ]
    }
   ],
   "source": [
    "# test data\n",
    "test_data = MNIST('./data', train=False, download=True, transform=transform_func)\n",
    "test_loader = DataLoader(test_data, batch_size=128)\n",
    "\n",
    "print(\n",
    "  f\"\"\"\n",
    "  data samples: {test_loader.dataset.__len__()}\n",
    "  number batch: {test_loader.__len__()}\n",
    "\"\"\"\n",
    ")"
   ]
  },
  {
   "cell_type": "markdown",
   "id": "1133fb90",
   "metadata": {},
   "source": [
    "# Model"
   ]
  },
  {
   "cell_type": "code",
   "execution_count": 22,
   "id": "bf6c7575",
   "metadata": {},
   "outputs": [
    {
     "name": "stdout",
     "output_type": "stream",
     "text": [
      "Number of params: 5450\n"
     ]
    }
   ],
   "source": [
    "class Model(nn.Module):\n",
    "  def __init__(self, num_classes, in_channels = 1 ):\n",
    "    super().__init__()\n",
    "    \n",
    "    self.kernel = 3\n",
    "    self.in_channels = in_channels\n",
    "    self.num_classes = num_classes\n",
    "\n",
    "    self.conv1 = nn.Sequential(\n",
    "      nn.Conv2d(self.in_channels, 64, kernel_size=self.kernel, padding= self.pad()),\n",
    "      # nn.BatchNorm2d(64),\n",
    "      nn.ReLU(),\n",
    "      nn.MaxPool2d(2, 2),\n",
    "    )\n",
    "\n",
    "    # self.max_pool = nn.AdaptiveMaxPool2d((1, 1)) # [B, prev_conv_out, 1, 1]\n",
    "    self.avg_pool = nn.AdaptiveAvgPool2d((1, 1)) # [B, prev_conv_out, 1, 1]\n",
    " \n",
    "    self.l1 = nn.Linear(64, 64)\n",
    "    self.dropout = nn.Dropout(.4)\n",
    "\n",
    "    self.out = nn.Linear(64, self.num_classes)\n",
    "\n",
    "  def pad(self):\n",
    "    return int( (self.kernel - 1) // 2)\n",
    "\n",
    "  def forward(self, x):\n",
    "    x = self.conv1( x )\n",
    "\n",
    "    x = self.avg_pool( x )\n",
    "\n",
    "    x = x.view( x.size(0), -1 )\n",
    "\n",
    "    x = self.dropout( self.l1( x ) )\n",
    "\n",
    "    return self.out(x)\n",
    "\n",
    "model = Model(num_classes=NUM_CLASSES)\n",
    "\n",
    "model.to(DEVICE)\n",
    "\n",
    "print(\"Number of params:\", sum([p.numel() for p in model.parameters()]))\n",
    "\n",
    "# model"
   ]
  },
  {
   "cell_type": "code",
   "execution_count": 23,
   "id": "dacf80e1",
   "metadata": {},
   "outputs": [
    {
     "data": {
      "text/plain": [
       "==========================================================================================\n",
       "Layer (type:depth-idx)                   Output Shape              Param #\n",
       "==========================================================================================\n",
       "Model                                    [1, 10]                   --\n",
       "├─Sequential: 1-1                        [1, 64, 14, 14]           --\n",
       "│    └─Conv2d: 2-1                       [1, 64, 28, 28]           640\n",
       "│    └─ReLU: 2-2                         [1, 64, 28, 28]           --\n",
       "│    └─MaxPool2d: 2-3                    [1, 64, 14, 14]           --\n",
       "├─AdaptiveAvgPool2d: 1-2                 [1, 64, 1, 1]             --\n",
       "├─Linear: 1-3                            [1, 64]                   4,160\n",
       "├─Dropout: 1-4                           [1, 64]                   --\n",
       "├─Linear: 1-5                            [1, 10]                   650\n",
       "==========================================================================================\n",
       "Total params: 5,450\n",
       "Trainable params: 5,450\n",
       "Non-trainable params: 0\n",
       "Total mult-adds (M): 0.51\n",
       "==========================================================================================\n",
       "Input size (MB): 0.00\n",
       "Forward/backward pass size (MB): 0.40\n",
       "Params size (MB): 0.02\n",
       "Estimated Total Size (MB): 0.43\n",
       "=========================================================================================="
      ]
     },
     "execution_count": 23,
     "metadata": {},
     "output_type": "execute_result"
    }
   ],
   "source": [
    "summary(model, (1, 1, 28, 28))"
   ]
  },
  {
   "cell_type": "markdown",
   "id": "9be873b5",
   "metadata": {},
   "source": [
    "# Loss - Optim"
   ]
  },
  {
   "cell_type": "code",
   "execution_count": 24,
   "id": "a79abb14",
   "metadata": {},
   "outputs": [],
   "source": [
    "optimizer = torch.optim.AdamW(\n",
    "  model.parameters(), \n",
    "  lr=LEARNING_RATE,\n",
    "  weight_decay=1e-4\n",
    ")\n",
    "\n",
    "loss_func = nn.CrossEntropyLoss()\n",
    "\n",
    "# lr sheduler\n",
    "lr_scheduler = torch.optim.lr_scheduler.ReduceLROnPlateau(optimizer)"
   ]
  },
  {
   "cell_type": "markdown",
   "id": "9484e11c",
   "metadata": {},
   "source": [
    "# Train"
   ]
  },
  {
   "cell_type": "code",
   "execution_count": 25,
   "id": "202d261e",
   "metadata": {},
   "outputs": [
    {
     "data": {
      "text/plain": [
       "'mps'"
      ]
     },
     "execution_count": 25,
     "metadata": {},
     "output_type": "execute_result"
    }
   ],
   "source": [
    "DEVICE"
   ]
  },
  {
   "cell_type": "code",
   "execution_count": 26,
   "id": "34778a73",
   "metadata": {},
   "outputs": [
    {
     "name": "stderr",
     "output_type": "stream",
     "text": [
      "Train [1/200] ... : 100%|██████████| 469/469 [00:06<00:00, 78.14it/s]\n"
     ]
    },
    {
     "name": "stdout",
     "output_type": "stream",
     "text": [
      "Epoch: 1/200 | Loss: 1.8653 | Accuracy: 0.3091 \n",
      "\n"
     ]
    },
    {
     "name": "stderr",
     "output_type": "stream",
     "text": [
      "Train [2/200] ... : 100%|██████████| 469/469 [00:05<00:00, 78.27it/s]\n"
     ]
    },
    {
     "name": "stdout",
     "output_type": "stream",
     "text": [
      "Epoch: 2/200 | Loss: 1.4708 | Accuracy: 0.4429 \n",
      "\n"
     ]
    },
    {
     "name": "stderr",
     "output_type": "stream",
     "text": [
      "Train [3/200] ... : 100%|██████████| 469/469 [00:06<00:00, 70.11it/s]\n"
     ]
    },
    {
     "name": "stdout",
     "output_type": "stream",
     "text": [
      "Epoch: 3/200 | Loss: 1.4130 | Accuracy: 0.4700 \n",
      "\n"
     ]
    },
    {
     "name": "stderr",
     "output_type": "stream",
     "text": [
      "Train [4/200] ... : 100%|██████████| 469/469 [00:06<00:00, 70.13it/s]\n"
     ]
    },
    {
     "name": "stdout",
     "output_type": "stream",
     "text": [
      "Epoch: 4/200 | Loss: 1.3761 | Accuracy: 0.4855 \n",
      "\n"
     ]
    },
    {
     "name": "stderr",
     "output_type": "stream",
     "text": [
      "Train [5/200] ... : 100%|██████████| 469/469 [00:07<00:00, 62.15it/s]\n"
     ]
    },
    {
     "name": "stdout",
     "output_type": "stream",
     "text": [
      "Epoch: 5/200 | Loss: 1.3535 | Accuracy: 0.4956 \n",
      "\n"
     ]
    },
    {
     "name": "stderr",
     "output_type": "stream",
     "text": [
      "Train [6/200] ... : 100%|██████████| 469/469 [00:06<00:00, 68.93it/s]\n"
     ]
    },
    {
     "name": "stdout",
     "output_type": "stream",
     "text": [
      "Epoch: 6/200 | Loss: 1.3315 | Accuracy: 0.5036 \n",
      "\n"
     ]
    },
    {
     "name": "stderr",
     "output_type": "stream",
     "text": [
      "Train [7/200] ... : 100%|██████████| 469/469 [00:06<00:00, 71.82it/s]\n"
     ]
    },
    {
     "name": "stdout",
     "output_type": "stream",
     "text": [
      "Epoch: 7/200 | Loss: 1.3123 | Accuracy: 0.5107 \n",
      "\n"
     ]
    },
    {
     "name": "stderr",
     "output_type": "stream",
     "text": [
      "Train [8/200] ... : 100%|██████████| 469/469 [00:06<00:00, 73.85it/s]\n"
     ]
    },
    {
     "name": "stdout",
     "output_type": "stream",
     "text": [
      "Epoch: 8/200 | Loss: 1.2920 | Accuracy: 0.5184 \n",
      "\n"
     ]
    },
    {
     "name": "stderr",
     "output_type": "stream",
     "text": [
      "Train [9/200] ... : 100%|██████████| 469/469 [00:06<00:00, 76.87it/s]\n"
     ]
    },
    {
     "name": "stdout",
     "output_type": "stream",
     "text": [
      "Epoch: 9/200 | Loss: 1.2758 | Accuracy: 0.5256 \n",
      "\n"
     ]
    },
    {
     "name": "stderr",
     "output_type": "stream",
     "text": [
      "Train [10/200] ... : 100%|██████████| 469/469 [00:05<00:00, 84.08it/s]\n"
     ]
    },
    {
     "name": "stdout",
     "output_type": "stream",
     "text": [
      "Epoch: 10/200 | Loss: 1.2602 | Accuracy: 0.5320 \n",
      "\n"
     ]
    },
    {
     "name": "stderr",
     "output_type": "stream",
     "text": [
      "Train [11/200] ... : 100%|██████████| 469/469 [00:05<00:00, 84.01it/s]\n"
     ]
    },
    {
     "name": "stdout",
     "output_type": "stream",
     "text": [
      "Epoch: 11/200 | Loss: 1.2480 | Accuracy: 0.5402 \n",
      "\n"
     ]
    },
    {
     "name": "stderr",
     "output_type": "stream",
     "text": [
      "Train [12/200] ... : 100%|██████████| 469/469 [00:05<00:00, 81.63it/s]\n"
     ]
    },
    {
     "name": "stdout",
     "output_type": "stream",
     "text": [
      "Epoch: 12/200 | Loss: 1.2398 | Accuracy: 0.5424 \n",
      "\n"
     ]
    },
    {
     "name": "stderr",
     "output_type": "stream",
     "text": [
      "Train [13/200] ... : 100%|██████████| 469/469 [00:06<00:00, 76.35it/s]\n"
     ]
    },
    {
     "name": "stdout",
     "output_type": "stream",
     "text": [
      "Epoch: 13/200 | Loss: 1.2308 | Accuracy: 0.5479 \n",
      "\n"
     ]
    },
    {
     "name": "stderr",
     "output_type": "stream",
     "text": [
      "Train [14/200] ... : 100%|██████████| 469/469 [00:06<00:00, 76.24it/s]\n"
     ]
    },
    {
     "name": "stdout",
     "output_type": "stream",
     "text": [
      "Epoch: 14/200 | Loss: 1.2226 | Accuracy: 0.5488 \n",
      "\n"
     ]
    },
    {
     "name": "stderr",
     "output_type": "stream",
     "text": [
      "Train [15/200] ... : 100%|██████████| 469/469 [00:06<00:00, 73.08it/s]\n"
     ]
    },
    {
     "name": "stdout",
     "output_type": "stream",
     "text": [
      "Epoch: 15/200 | Loss: 1.2139 | Accuracy: 0.5546 \n",
      "\n"
     ]
    },
    {
     "name": "stderr",
     "output_type": "stream",
     "text": [
      "Train [16/200] ... : 100%|██████████| 469/469 [00:05<00:00, 80.14it/s]\n"
     ]
    },
    {
     "name": "stdout",
     "output_type": "stream",
     "text": [
      "Epoch: 16/200 | Loss: 1.2042 | Accuracy: 0.5592 \n",
      "\n"
     ]
    },
    {
     "name": "stderr",
     "output_type": "stream",
     "text": [
      "Train [17/200] ... : 100%|██████████| 469/469 [00:05<00:00, 84.42it/s]\n"
     ]
    },
    {
     "name": "stdout",
     "output_type": "stream",
     "text": [
      "Epoch: 17/200 | Loss: 1.1993 | Accuracy: 0.5599 \n",
      "\n"
     ]
    },
    {
     "name": "stderr",
     "output_type": "stream",
     "text": [
      "Train [18/200] ... : 100%|██████████| 469/469 [00:05<00:00, 79.56it/s]\n"
     ]
    },
    {
     "name": "stdout",
     "output_type": "stream",
     "text": [
      "Epoch: 18/200 | Loss: 1.1913 | Accuracy: 0.5625 \n",
      "\n"
     ]
    },
    {
     "name": "stderr",
     "output_type": "stream",
     "text": [
      "Train [19/200] ... : 100%|██████████| 469/469 [00:05<00:00, 82.96it/s]\n"
     ]
    },
    {
     "name": "stdout",
     "output_type": "stream",
     "text": [
      "Epoch: 19/200 | Loss: 1.1806 | Accuracy: 0.5666 \n",
      "\n"
     ]
    },
    {
     "name": "stderr",
     "output_type": "stream",
     "text": [
      "Train [20/200] ... : 100%|██████████| 469/469 [00:05<00:00, 83.16it/s]\n"
     ]
    },
    {
     "name": "stdout",
     "output_type": "stream",
     "text": [
      "Epoch: 20/200 | Loss: 1.1760 | Accuracy: 0.5690 \n",
      "\n"
     ]
    },
    {
     "name": "stderr",
     "output_type": "stream",
     "text": [
      "Train [21/200] ... : 100%|██████████| 469/469 [00:07<00:00, 61.53it/s]\n"
     ]
    },
    {
     "name": "stdout",
     "output_type": "stream",
     "text": [
      "Epoch: 21/200 | Loss: 1.1688 | Accuracy: 0.5731 \n",
      "\n"
     ]
    },
    {
     "name": "stderr",
     "output_type": "stream",
     "text": [
      "Train [22/200] ... : 100%|██████████| 469/469 [00:05<00:00, 81.34it/s]\n"
     ]
    },
    {
     "name": "stdout",
     "output_type": "stream",
     "text": [
      "Epoch: 22/200 | Loss: 1.1615 | Accuracy: 0.5757 \n",
      "\n"
     ]
    },
    {
     "name": "stderr",
     "output_type": "stream",
     "text": [
      "Train [23/200] ... : 100%|██████████| 469/469 [00:06<00:00, 70.30it/s]\n"
     ]
    },
    {
     "name": "stdout",
     "output_type": "stream",
     "text": [
      "Epoch: 23/200 | Loss: 1.1561 | Accuracy: 0.5792 \n",
      "\n"
     ]
    },
    {
     "name": "stderr",
     "output_type": "stream",
     "text": [
      "Train [24/200] ... : 100%|██████████| 469/469 [00:06<00:00, 76.65it/s]\n"
     ]
    },
    {
     "name": "stdout",
     "output_type": "stream",
     "text": [
      "Epoch: 24/200 | Loss: 1.1477 | Accuracy: 0.5834 \n",
      "\n"
     ]
    },
    {
     "name": "stderr",
     "output_type": "stream",
     "text": [
      "Train [25/200] ... : 100%|██████████| 469/469 [00:05<00:00, 78.20it/s]\n"
     ]
    },
    {
     "name": "stdout",
     "output_type": "stream",
     "text": [
      "Epoch: 25/200 | Loss: 1.1380 | Accuracy: 0.5856 \n",
      "\n"
     ]
    },
    {
     "name": "stderr",
     "output_type": "stream",
     "text": [
      "Train [26/200] ... : 100%|██████████| 469/469 [00:06<00:00, 74.52it/s]\n"
     ]
    },
    {
     "name": "stdout",
     "output_type": "stream",
     "text": [
      "Epoch: 26/200 | Loss: 1.1299 | Accuracy: 0.5903 \n",
      "\n"
     ]
    },
    {
     "name": "stderr",
     "output_type": "stream",
     "text": [
      "Train [27/200] ... : 100%|██████████| 469/469 [00:05<00:00, 83.62it/s]\n"
     ]
    },
    {
     "name": "stdout",
     "output_type": "stream",
     "text": [
      "Epoch: 27/200 | Loss: 1.1227 | Accuracy: 0.5949 \n",
      "\n"
     ]
    },
    {
     "name": "stderr",
     "output_type": "stream",
     "text": [
      "Train [28/200] ... : 100%|██████████| 469/469 [00:06<00:00, 75.81it/s]\n"
     ]
    },
    {
     "name": "stdout",
     "output_type": "stream",
     "text": [
      "Epoch: 28/200 | Loss: 1.1112 | Accuracy: 0.5998 \n",
      "\n"
     ]
    },
    {
     "name": "stderr",
     "output_type": "stream",
     "text": [
      "Train [29/200] ... : 100%|██████████| 469/469 [00:05<00:00, 84.55it/s]\n"
     ]
    },
    {
     "name": "stdout",
     "output_type": "stream",
     "text": [
      "Epoch: 29/200 | Loss: 1.0992 | Accuracy: 0.6069 \n",
      "\n"
     ]
    },
    {
     "name": "stderr",
     "output_type": "stream",
     "text": [
      "Train [30/200] ... : 100%|██████████| 469/469 [00:05<00:00, 78.42it/s]\n"
     ]
    },
    {
     "name": "stdout",
     "output_type": "stream",
     "text": [
      "Epoch: 30/200 | Loss: 1.0907 | Accuracy: 0.6125 \n",
      "\n"
     ]
    },
    {
     "name": "stderr",
     "output_type": "stream",
     "text": [
      "Train [31/200] ... : 100%|██████████| 469/469 [00:05<00:00, 80.45it/s]\n"
     ]
    },
    {
     "name": "stdout",
     "output_type": "stream",
     "text": [
      "Epoch: 31/200 | Loss: 1.0784 | Accuracy: 0.6185 \n",
      "\n"
     ]
    },
    {
     "name": "stderr",
     "output_type": "stream",
     "text": [
      "Train [32/200] ... : 100%|██████████| 469/469 [00:05<00:00, 83.58it/s]\n"
     ]
    },
    {
     "name": "stdout",
     "output_type": "stream",
     "text": [
      "Epoch: 32/200 | Loss: 1.0659 | Accuracy: 0.6265 \n",
      "\n"
     ]
    },
    {
     "name": "stderr",
     "output_type": "stream",
     "text": [
      "Train [33/200] ... : 100%|██████████| 469/469 [00:06<00:00, 78.05it/s]\n"
     ]
    },
    {
     "name": "stdout",
     "output_type": "stream",
     "text": [
      "Epoch: 33/200 | Loss: 1.0532 | Accuracy: 0.6341 \n",
      "\n"
     ]
    },
    {
     "name": "stderr",
     "output_type": "stream",
     "text": [
      "Train [34/200] ... : 100%|██████████| 469/469 [00:05<00:00, 83.95it/s]\n"
     ]
    },
    {
     "name": "stdout",
     "output_type": "stream",
     "text": [
      "Epoch: 34/200 | Loss: 1.0428 | Accuracy: 0.6395 \n",
      "\n"
     ]
    },
    {
     "name": "stderr",
     "output_type": "stream",
     "text": [
      "Train [35/200] ... : 100%|██████████| 469/469 [00:05<00:00, 80.25it/s]\n"
     ]
    },
    {
     "name": "stdout",
     "output_type": "stream",
     "text": [
      "Epoch: 35/200 | Loss: 1.0210 | Accuracy: 0.6500 \n",
      "\n"
     ]
    },
    {
     "name": "stderr",
     "output_type": "stream",
     "text": [
      "Train [36/200] ... : 100%|██████████| 469/469 [00:06<00:00, 72.44it/s]\n"
     ]
    },
    {
     "name": "stdout",
     "output_type": "stream",
     "text": [
      "Epoch: 36/200 | Loss: 1.0098 | Accuracy: 0.6571 \n",
      "\n"
     ]
    },
    {
     "name": "stderr",
     "output_type": "stream",
     "text": [
      "Train [37/200] ... : 100%|██████████| 469/469 [00:05<00:00, 80.98it/s]\n"
     ]
    },
    {
     "name": "stdout",
     "output_type": "stream",
     "text": [
      "Epoch: 37/200 | Loss: 0.9881 | Accuracy: 0.6675 \n",
      "\n"
     ]
    },
    {
     "name": "stderr",
     "output_type": "stream",
     "text": [
      "Train [38/200] ... : 100%|██████████| 469/469 [00:06<00:00, 67.68it/s]\n"
     ]
    },
    {
     "name": "stdout",
     "output_type": "stream",
     "text": [
      "Epoch: 38/200 | Loss: 0.9775 | Accuracy: 0.6741 \n",
      "\n"
     ]
    },
    {
     "name": "stderr",
     "output_type": "stream",
     "text": [
      "Train [39/200] ... : 100%|██████████| 469/469 [00:06<00:00, 76.43it/s]\n"
     ]
    },
    {
     "name": "stdout",
     "output_type": "stream",
     "text": [
      "Epoch: 39/200 | Loss: 0.9617 | Accuracy: 0.6796 \n",
      "\n"
     ]
    },
    {
     "name": "stderr",
     "output_type": "stream",
     "text": [
      "Train [40/200] ... : 100%|██████████| 469/469 [00:08<00:00, 52.40it/s]\n"
     ]
    },
    {
     "name": "stdout",
     "output_type": "stream",
     "text": [
      "Epoch: 40/200 | Loss: 0.9487 | Accuracy: 0.6833 \n",
      "\n"
     ]
    },
    {
     "name": "stderr",
     "output_type": "stream",
     "text": [
      "Train [41/200] ... : 100%|██████████| 469/469 [00:08<00:00, 53.52it/s]\n"
     ]
    },
    {
     "name": "stdout",
     "output_type": "stream",
     "text": [
      "Epoch: 41/200 | Loss: 0.9362 | Accuracy: 0.6898 \n",
      "\n"
     ]
    },
    {
     "name": "stderr",
     "output_type": "stream",
     "text": [
      "Train [42/200] ... : 100%|██████████| 469/469 [00:06<00:00, 67.60it/s]\n"
     ]
    },
    {
     "name": "stdout",
     "output_type": "stream",
     "text": [
      "Epoch: 42/200 | Loss: 0.9294 | Accuracy: 0.6927 \n",
      "\n"
     ]
    },
    {
     "name": "stderr",
     "output_type": "stream",
     "text": [
      "Train [43/200] ... : 100%|██████████| 469/469 [00:07<00:00, 66.17it/s]\n"
     ]
    },
    {
     "name": "stdout",
     "output_type": "stream",
     "text": [
      "Epoch: 43/200 | Loss: 0.9189 | Accuracy: 0.6948 \n",
      "\n"
     ]
    },
    {
     "name": "stderr",
     "output_type": "stream",
     "text": [
      "Train [44/200] ... : 100%|██████████| 469/469 [00:08<00:00, 54.66it/s]\n"
     ]
    },
    {
     "name": "stdout",
     "output_type": "stream",
     "text": [
      "Epoch: 44/200 | Loss: 0.9051 | Accuracy: 0.7002 \n",
      "\n"
     ]
    },
    {
     "name": "stderr",
     "output_type": "stream",
     "text": [
      "Train [45/200] ... : 100%|██████████| 469/469 [00:09<00:00, 50.29it/s]\n"
     ]
    },
    {
     "name": "stdout",
     "output_type": "stream",
     "text": [
      "Epoch: 45/200 | Loss: 0.8974 | Accuracy: 0.7041 \n",
      "\n"
     ]
    },
    {
     "name": "stderr",
     "output_type": "stream",
     "text": [
      "Train [46/200] ... : 100%|██████████| 469/469 [00:09<00:00, 48.46it/s]\n"
     ]
    },
    {
     "name": "stdout",
     "output_type": "stream",
     "text": [
      "Epoch: 46/200 | Loss: 0.8898 | Accuracy: 0.7056 \n",
      "\n"
     ]
    },
    {
     "name": "stderr",
     "output_type": "stream",
     "text": [
      "Train [47/200] ... : 100%|██████████| 469/469 [00:09<00:00, 51.66it/s]\n"
     ]
    },
    {
     "name": "stdout",
     "output_type": "stream",
     "text": [
      "Epoch: 47/200 | Loss: 0.8832 | Accuracy: 0.7079 \n",
      "\n"
     ]
    },
    {
     "name": "stderr",
     "output_type": "stream",
     "text": [
      "Train [48/200] ... : 100%|██████████| 469/469 [00:07<00:00, 64.25it/s]\n"
     ]
    },
    {
     "name": "stdout",
     "output_type": "stream",
     "text": [
      "Epoch: 48/200 | Loss: 0.8756 | Accuracy: 0.7120 \n",
      "\n"
     ]
    },
    {
     "name": "stderr",
     "output_type": "stream",
     "text": [
      "Train [49/200] ... : 100%|██████████| 469/469 [00:08<00:00, 55.76it/s]\n"
     ]
    },
    {
     "name": "stdout",
     "output_type": "stream",
     "text": [
      "Epoch: 49/200 | Loss: 0.8691 | Accuracy: 0.7160 \n",
      "\n"
     ]
    },
    {
     "name": "stderr",
     "output_type": "stream",
     "text": [
      "Train [50/200] ... : 100%|██████████| 469/469 [00:07<00:00, 62.61it/s]\n"
     ]
    },
    {
     "name": "stdout",
     "output_type": "stream",
     "text": [
      "Epoch: 50/200 | Loss: 0.8603 | Accuracy: 0.7190 \n",
      "\n"
     ]
    },
    {
     "name": "stderr",
     "output_type": "stream",
     "text": [
      "Train [51/200] ... : 100%|██████████| 469/469 [00:08<00:00, 54.24it/s]\n"
     ]
    },
    {
     "name": "stdout",
     "output_type": "stream",
     "text": [
      "Epoch: 51/200 | Loss: 0.8532 | Accuracy: 0.7193 \n",
      "\n"
     ]
    },
    {
     "name": "stderr",
     "output_type": "stream",
     "text": [
      "Train [52/200] ... : 100%|██████████| 469/469 [00:07<00:00, 64.12it/s]\n"
     ]
    },
    {
     "name": "stdout",
     "output_type": "stream",
     "text": [
      "Epoch: 52/200 | Loss: 0.8473 | Accuracy: 0.7240 \n",
      "\n"
     ]
    },
    {
     "name": "stderr",
     "output_type": "stream",
     "text": [
      "Train [53/200] ... : 100%|██████████| 469/469 [00:06<00:00, 68.65it/s]\n"
     ]
    },
    {
     "name": "stdout",
     "output_type": "stream",
     "text": [
      "Epoch: 53/200 | Loss: 0.8388 | Accuracy: 0.7266 \n",
      "\n"
     ]
    },
    {
     "name": "stderr",
     "output_type": "stream",
     "text": [
      "Train [54/200] ... : 100%|██████████| 469/469 [00:07<00:00, 59.24it/s]\n"
     ]
    },
    {
     "name": "stdout",
     "output_type": "stream",
     "text": [
      "Epoch: 54/200 | Loss: 0.8377 | Accuracy: 0.7254 \n",
      "\n"
     ]
    },
    {
     "name": "stderr",
     "output_type": "stream",
     "text": [
      "Train [55/200] ... : 100%|██████████| 469/469 [00:08<00:00, 57.00it/s]\n"
     ]
    },
    {
     "name": "stdout",
     "output_type": "stream",
     "text": [
      "Epoch: 55/200 | Loss: 0.8285 | Accuracy: 0.7303 \n",
      "\n"
     ]
    },
    {
     "name": "stderr",
     "output_type": "stream",
     "text": [
      "Train [56/200] ... : 100%|██████████| 469/469 [00:06<00:00, 71.71it/s]\n"
     ]
    },
    {
     "name": "stdout",
     "output_type": "stream",
     "text": [
      "Epoch: 56/200 | Loss: 0.8259 | Accuracy: 0.7312 \n",
      "\n"
     ]
    },
    {
     "name": "stderr",
     "output_type": "stream",
     "text": [
      "Train [57/200] ... : 100%|██████████| 469/469 [00:09<00:00, 50.45it/s]\n"
     ]
    },
    {
     "name": "stdout",
     "output_type": "stream",
     "text": [
      "Epoch: 57/200 | Loss: 0.8146 | Accuracy: 0.7350 \n",
      "\n"
     ]
    },
    {
     "name": "stderr",
     "output_type": "stream",
     "text": [
      "Train [58/200] ... : 100%|██████████| 469/469 [00:07<00:00, 59.47it/s]\n"
     ]
    },
    {
     "name": "stdout",
     "output_type": "stream",
     "text": [
      "Epoch: 58/200 | Loss: 0.8105 | Accuracy: 0.7366 \n",
      "\n"
     ]
    },
    {
     "name": "stderr",
     "output_type": "stream",
     "text": [
      "Train [59/200] ... : 100%|██████████| 469/469 [00:06<00:00, 71.08it/s]\n"
     ]
    },
    {
     "name": "stdout",
     "output_type": "stream",
     "text": [
      "Epoch: 59/200 | Loss: 0.8119 | Accuracy: 0.7369 \n",
      "\n"
     ]
    },
    {
     "name": "stderr",
     "output_type": "stream",
     "text": [
      "Train [60/200] ... : 100%|██████████| 469/469 [00:06<00:00, 68.82it/s]\n"
     ]
    },
    {
     "name": "stdout",
     "output_type": "stream",
     "text": [
      "Epoch: 60/200 | Loss: 0.8098 | Accuracy: 0.7370 \n",
      "\n"
     ]
    },
    {
     "name": "stderr",
     "output_type": "stream",
     "text": [
      "Train [61/200] ... : 100%|██████████| 469/469 [00:08<00:00, 57.97it/s]\n"
     ]
    },
    {
     "name": "stdout",
     "output_type": "stream",
     "text": [
      "Epoch: 61/200 | Loss: 0.7931 | Accuracy: 0.7450 \n",
      "\n"
     ]
    },
    {
     "name": "stderr",
     "output_type": "stream",
     "text": [
      "Train [62/200] ... : 100%|██████████| 469/469 [00:06<00:00, 67.29it/s]\n"
     ]
    },
    {
     "name": "stdout",
     "output_type": "stream",
     "text": [
      "Epoch: 62/200 | Loss: 0.7895 | Accuracy: 0.7444 \n",
      "\n"
     ]
    },
    {
     "name": "stderr",
     "output_type": "stream",
     "text": [
      "Train [63/200] ... : 100%|██████████| 469/469 [00:07<00:00, 63.83it/s]\n"
     ]
    },
    {
     "name": "stdout",
     "output_type": "stream",
     "text": [
      "Epoch: 63/200 | Loss: 0.7873 | Accuracy: 0.7457 \n",
      "\n"
     ]
    },
    {
     "name": "stderr",
     "output_type": "stream",
     "text": [
      "Train [64/200] ... : 100%|██████████| 469/469 [00:06<00:00, 67.03it/s]\n"
     ]
    },
    {
     "name": "stdout",
     "output_type": "stream",
     "text": [
      "Epoch: 64/200 | Loss: 0.7818 | Accuracy: 0.7473 \n",
      "\n"
     ]
    },
    {
     "name": "stderr",
     "output_type": "stream",
     "text": [
      "Train [65/200] ... : 100%|██████████| 469/469 [00:07<00:00, 63.50it/s]\n"
     ]
    },
    {
     "name": "stdout",
     "output_type": "stream",
     "text": [
      "Epoch: 65/200 | Loss: 0.7827 | Accuracy: 0.7474 \n",
      "\n"
     ]
    },
    {
     "name": "stderr",
     "output_type": "stream",
     "text": [
      "Train [66/200] ... : 100%|██████████| 469/469 [00:08<00:00, 54.13it/s]\n"
     ]
    },
    {
     "name": "stdout",
     "output_type": "stream",
     "text": [
      "Epoch: 66/200 | Loss: 0.7719 | Accuracy: 0.7524 \n",
      "\n"
     ]
    },
    {
     "name": "stderr",
     "output_type": "stream",
     "text": [
      "Train [67/200] ... : 100%|██████████| 469/469 [00:07<00:00, 62.85it/s]\n"
     ]
    },
    {
     "name": "stdout",
     "output_type": "stream",
     "text": [
      "Epoch: 67/200 | Loss: 0.7764 | Accuracy: 0.7481 \n",
      "\n"
     ]
    },
    {
     "name": "stderr",
     "output_type": "stream",
     "text": [
      "Train [68/200] ... : 100%|██████████| 469/469 [00:07<00:00, 63.05it/s]\n"
     ]
    },
    {
     "name": "stdout",
     "output_type": "stream",
     "text": [
      "Epoch: 68/200 | Loss: 0.7624 | Accuracy: 0.7551 \n",
      "\n"
     ]
    },
    {
     "name": "stderr",
     "output_type": "stream",
     "text": [
      "Train [69/200] ... : 100%|██████████| 469/469 [00:07<00:00, 62.96it/s]\n"
     ]
    },
    {
     "name": "stdout",
     "output_type": "stream",
     "text": [
      "Epoch: 69/200 | Loss: 0.7677 | Accuracy: 0.7515 \n",
      "\n"
     ]
    },
    {
     "name": "stderr",
     "output_type": "stream",
     "text": [
      "Train [70/200] ... : 100%|██████████| 469/469 [00:08<00:00, 52.21it/s]\n"
     ]
    },
    {
     "name": "stdout",
     "output_type": "stream",
     "text": [
      "Epoch: 70/200 | Loss: 0.7603 | Accuracy: 0.7533 \n",
      "\n"
     ]
    },
    {
     "name": "stderr",
     "output_type": "stream",
     "text": [
      "Train [71/200] ... : 100%|██████████| 469/469 [00:07<00:00, 62.22it/s]\n"
     ]
    },
    {
     "name": "stdout",
     "output_type": "stream",
     "text": [
      "Epoch: 71/200 | Loss: 0.7558 | Accuracy: 0.7559 \n",
      "\n"
     ]
    },
    {
     "name": "stderr",
     "output_type": "stream",
     "text": [
      "Train [72/200] ... : 100%|██████████| 469/469 [00:06<00:00, 69.28it/s]\n"
     ]
    },
    {
     "name": "stdout",
     "output_type": "stream",
     "text": [
      "Epoch: 72/200 | Loss: 0.7532 | Accuracy: 0.7563 \n",
      "\n"
     ]
    },
    {
     "name": "stderr",
     "output_type": "stream",
     "text": [
      "Train [73/200] ... : 100%|██████████| 469/469 [00:08<00:00, 54.32it/s]\n"
     ]
    },
    {
     "name": "stdout",
     "output_type": "stream",
     "text": [
      "Epoch: 73/200 | Loss: 0.7460 | Accuracy: 0.7586 \n",
      "\n"
     ]
    },
    {
     "name": "stderr",
     "output_type": "stream",
     "text": [
      "Train [74/200] ... : 100%|██████████| 469/469 [00:06<00:00, 67.46it/s]\n"
     ]
    },
    {
     "name": "stdout",
     "output_type": "stream",
     "text": [
      "Epoch: 74/200 | Loss: 0.7424 | Accuracy: 0.7614 \n",
      "\n"
     ]
    },
    {
     "name": "stderr",
     "output_type": "stream",
     "text": [
      "Train [75/200] ... : 100%|██████████| 469/469 [00:07<00:00, 66.22it/s]\n"
     ]
    },
    {
     "name": "stdout",
     "output_type": "stream",
     "text": [
      "Epoch: 75/200 | Loss: 0.7450 | Accuracy: 0.7573 \n",
      "\n"
     ]
    },
    {
     "name": "stderr",
     "output_type": "stream",
     "text": [
      "Train [76/200] ... : 100%|██████████| 469/469 [00:08<00:00, 58.29it/s]\n"
     ]
    },
    {
     "name": "stdout",
     "output_type": "stream",
     "text": [
      "Epoch: 76/200 | Loss: 0.7383 | Accuracy: 0.7614 \n",
      "\n"
     ]
    },
    {
     "name": "stderr",
     "output_type": "stream",
     "text": [
      "Train [77/200] ... : 100%|██████████| 469/469 [00:06<00:00, 69.38it/s]\n"
     ]
    },
    {
     "name": "stdout",
     "output_type": "stream",
     "text": [
      "Epoch: 77/200 | Loss: 0.7305 | Accuracy: 0.7642 \n",
      "\n"
     ]
    },
    {
     "name": "stderr",
     "output_type": "stream",
     "text": [
      "Train [78/200] ... : 100%|██████████| 469/469 [00:07<00:00, 60.38it/s]\n"
     ]
    },
    {
     "name": "stdout",
     "output_type": "stream",
     "text": [
      "Epoch: 78/200 | Loss: 0.7300 | Accuracy: 0.7653 \n",
      "\n"
     ]
    },
    {
     "name": "stderr",
     "output_type": "stream",
     "text": [
      "Train [79/200] ... : 100%|██████████| 469/469 [00:07<00:00, 63.98it/s]\n"
     ]
    },
    {
     "name": "stdout",
     "output_type": "stream",
     "text": [
      "Epoch: 79/200 | Loss: 0.7312 | Accuracy: 0.7645 \n",
      "\n"
     ]
    },
    {
     "name": "stderr",
     "output_type": "stream",
     "text": [
      "Train [80/200] ... : 100%|██████████| 469/469 [00:07<00:00, 60.60it/s]\n"
     ]
    },
    {
     "name": "stdout",
     "output_type": "stream",
     "text": [
      "Epoch: 80/200 | Loss: 0.7263 | Accuracy: 0.7661 \n",
      "\n"
     ]
    },
    {
     "name": "stderr",
     "output_type": "stream",
     "text": [
      "Train [81/200] ... : 100%|██████████| 469/469 [00:06<00:00, 70.07it/s]\n"
     ]
    },
    {
     "name": "stdout",
     "output_type": "stream",
     "text": [
      "Epoch: 81/200 | Loss: 0.7179 | Accuracy: 0.7697 \n",
      "\n"
     ]
    },
    {
     "name": "stderr",
     "output_type": "stream",
     "text": [
      "Train [82/200] ... : 100%|██████████| 469/469 [00:08<00:00, 57.75it/s]\n"
     ]
    },
    {
     "name": "stdout",
     "output_type": "stream",
     "text": [
      "Epoch: 82/200 | Loss: 0.7182 | Accuracy: 0.7704 \n",
      "\n"
     ]
    },
    {
     "name": "stderr",
     "output_type": "stream",
     "text": [
      "Train [83/200] ... : 100%|██████████| 469/469 [00:07<00:00, 60.33it/s]\n"
     ]
    },
    {
     "name": "stdout",
     "output_type": "stream",
     "text": [
      "Epoch: 83/200 | Loss: 0.7148 | Accuracy: 0.7699 \n",
      "\n"
     ]
    },
    {
     "name": "stderr",
     "output_type": "stream",
     "text": [
      "Train [84/200] ... : 100%|██████████| 469/469 [00:07<00:00, 59.91it/s]\n"
     ]
    },
    {
     "name": "stdout",
     "output_type": "stream",
     "text": [
      "Epoch: 84/200 | Loss: 0.7098 | Accuracy: 0.7721 \n",
      "\n"
     ]
    },
    {
     "name": "stderr",
     "output_type": "stream",
     "text": [
      "Train [85/200] ... : 100%|██████████| 469/469 [00:07<00:00, 60.14it/s]\n"
     ]
    },
    {
     "name": "stdout",
     "output_type": "stream",
     "text": [
      "Epoch: 85/200 | Loss: 0.7079 | Accuracy: 0.7724 \n",
      "\n"
     ]
    },
    {
     "name": "stderr",
     "output_type": "stream",
     "text": [
      "Train [86/200] ... : 100%|██████████| 469/469 [00:07<00:00, 64.70it/s]\n"
     ]
    },
    {
     "name": "stdout",
     "output_type": "stream",
     "text": [
      "Epoch: 86/200 | Loss: 0.7025 | Accuracy: 0.7735 \n",
      "\n"
     ]
    },
    {
     "name": "stderr",
     "output_type": "stream",
     "text": [
      "Train [87/200] ... : 100%|██████████| 469/469 [00:07<00:00, 65.38it/s]\n"
     ]
    },
    {
     "name": "stdout",
     "output_type": "stream",
     "text": [
      "Epoch: 87/200 | Loss: 0.7025 | Accuracy: 0.7736 \n",
      "\n"
     ]
    },
    {
     "name": "stderr",
     "output_type": "stream",
     "text": [
      "Train [88/200] ... : 100%|██████████| 469/469 [00:08<00:00, 55.37it/s]\n"
     ]
    },
    {
     "name": "stdout",
     "output_type": "stream",
     "text": [
      "Epoch: 88/200 | Loss: 0.7055 | Accuracy: 0.7735 \n",
      "\n"
     ]
    },
    {
     "name": "stderr",
     "output_type": "stream",
     "text": [
      "Train [89/200] ... : 100%|██████████| 469/469 [00:07<00:00, 62.86it/s]\n"
     ]
    },
    {
     "name": "stdout",
     "output_type": "stream",
     "text": [
      "Epoch: 89/200 | Loss: 0.6994 | Accuracy: 0.7739 \n",
      "\n"
     ]
    },
    {
     "name": "stderr",
     "output_type": "stream",
     "text": [
      "Train [90/200] ... : 100%|██████████| 469/469 [00:06<00:00, 69.21it/s]\n"
     ]
    },
    {
     "name": "stdout",
     "output_type": "stream",
     "text": [
      "Epoch: 90/200 | Loss: 0.6958 | Accuracy: 0.7762 \n",
      "\n"
     ]
    },
    {
     "name": "stderr",
     "output_type": "stream",
     "text": [
      "Train [91/200] ... : 100%|██████████| 469/469 [00:06<00:00, 68.06it/s]\n"
     ]
    },
    {
     "name": "stdout",
     "output_type": "stream",
     "text": [
      "Epoch: 91/200 | Loss: 0.6946 | Accuracy: 0.7751 \n",
      "\n"
     ]
    },
    {
     "name": "stderr",
     "output_type": "stream",
     "text": [
      "Train [92/200] ... : 100%|██████████| 469/469 [00:07<00:00, 60.07it/s]\n"
     ]
    },
    {
     "name": "stdout",
     "output_type": "stream",
     "text": [
      "Epoch: 92/200 | Loss: 0.6805 | Accuracy: 0.7810 \n",
      "\n"
     ]
    },
    {
     "name": "stderr",
     "output_type": "stream",
     "text": [
      "Train [93/200] ... : 100%|██████████| 469/469 [00:06<00:00, 69.83it/s]\n"
     ]
    },
    {
     "name": "stdout",
     "output_type": "stream",
     "text": [
      "Epoch: 93/200 | Loss: 0.6848 | Accuracy: 0.7796 \n",
      "\n"
     ]
    },
    {
     "name": "stderr",
     "output_type": "stream",
     "text": [
      "Train [94/200] ... : 100%|██████████| 469/469 [00:07<00:00, 65.91it/s]\n"
     ]
    },
    {
     "name": "stdout",
     "output_type": "stream",
     "text": [
      "Epoch: 94/200 | Loss: 0.6853 | Accuracy: 0.7803 \n",
      "\n"
     ]
    },
    {
     "name": "stderr",
     "output_type": "stream",
     "text": [
      "Train [95/200] ... : 100%|██████████| 469/469 [00:07<00:00, 66.05it/s]\n"
     ]
    },
    {
     "name": "stdout",
     "output_type": "stream",
     "text": [
      "Epoch: 95/200 | Loss: 0.6795 | Accuracy: 0.7822 \n",
      "\n"
     ]
    },
    {
     "name": "stderr",
     "output_type": "stream",
     "text": [
      "Train [96/200] ... : 100%|██████████| 469/469 [00:07<00:00, 65.84it/s]\n"
     ]
    },
    {
     "name": "stdout",
     "output_type": "stream",
     "text": [
      "Epoch: 96/200 | Loss: 0.6822 | Accuracy: 0.7797 \n",
      "\n"
     ]
    },
    {
     "name": "stderr",
     "output_type": "stream",
     "text": [
      "Train [97/200] ... : 100%|██████████| 469/469 [00:07<00:00, 65.96it/s]\n"
     ]
    },
    {
     "name": "stdout",
     "output_type": "stream",
     "text": [
      "Epoch: 97/200 | Loss: 0.6796 | Accuracy: 0.7810 \n",
      "\n"
     ]
    },
    {
     "name": "stderr",
     "output_type": "stream",
     "text": [
      "Train [98/200] ... : 100%|██████████| 469/469 [00:07<00:00, 62.91it/s]\n"
     ]
    },
    {
     "name": "stdout",
     "output_type": "stream",
     "text": [
      "Epoch: 98/200 | Loss: 0.6707 | Accuracy: 0.7848 \n",
      "\n"
     ]
    },
    {
     "name": "stderr",
     "output_type": "stream",
     "text": [
      "Train [99/200] ... : 100%|██████████| 469/469 [00:06<00:00, 72.32it/s]\n"
     ]
    },
    {
     "name": "stdout",
     "output_type": "stream",
     "text": [
      "Epoch: 99/200 | Loss: 0.6731 | Accuracy: 0.7833 \n",
      "\n"
     ]
    },
    {
     "name": "stderr",
     "output_type": "stream",
     "text": [
      "Train [100/200] ... : 100%|██████████| 469/469 [00:05<00:00, 78.82it/s]\n"
     ]
    },
    {
     "name": "stdout",
     "output_type": "stream",
     "text": [
      "Epoch: 100/200 | Loss: 0.6727 | Accuracy: 0.7829 \n",
      "\n"
     ]
    },
    {
     "name": "stderr",
     "output_type": "stream",
     "text": [
      "Train [101/200] ... : 100%|██████████| 469/469 [00:06<00:00, 70.41it/s]\n"
     ]
    },
    {
     "name": "stdout",
     "output_type": "stream",
     "text": [
      "Epoch: 101/200 | Loss: 0.6684 | Accuracy: 0.7849 \n",
      "\n"
     ]
    },
    {
     "name": "stderr",
     "output_type": "stream",
     "text": [
      "Train [102/200] ... : 100%|██████████| 469/469 [00:05<00:00, 79.26it/s]\n"
     ]
    },
    {
     "name": "stdout",
     "output_type": "stream",
     "text": [
      "Epoch: 102/200 | Loss: 0.6690 | Accuracy: 0.7847 \n",
      "\n"
     ]
    },
    {
     "name": "stderr",
     "output_type": "stream",
     "text": [
      "Train [103/200] ... : 100%|██████████| 469/469 [00:06<00:00, 76.84it/s]\n"
     ]
    },
    {
     "name": "stdout",
     "output_type": "stream",
     "text": [
      "Epoch: 103/200 | Loss: 0.6652 | Accuracy: 0.7862 \n",
      "\n"
     ]
    },
    {
     "name": "stderr",
     "output_type": "stream",
     "text": [
      "Train [104/200] ... : 100%|██████████| 469/469 [00:05<00:00, 82.94it/s]\n"
     ]
    },
    {
     "name": "stdout",
     "output_type": "stream",
     "text": [
      "Epoch: 104/200 | Loss: 0.6573 | Accuracy: 0.7901 \n",
      "\n"
     ]
    },
    {
     "name": "stderr",
     "output_type": "stream",
     "text": [
      "Train [105/200] ... : 100%|██████████| 469/469 [00:07<00:00, 64.18it/s]\n"
     ]
    },
    {
     "name": "stdout",
     "output_type": "stream",
     "text": [
      "Epoch: 105/200 | Loss: 0.6637 | Accuracy: 0.7857 \n",
      "\n"
     ]
    },
    {
     "name": "stderr",
     "output_type": "stream",
     "text": [
      "Train [106/200] ... : 100%|██████████| 469/469 [00:09<00:00, 49.47it/s]\n"
     ]
    },
    {
     "name": "stdout",
     "output_type": "stream",
     "text": [
      "Epoch: 106/200 | Loss: 0.6571 | Accuracy: 0.7882 \n",
      "\n"
     ]
    },
    {
     "name": "stderr",
     "output_type": "stream",
     "text": [
      "Train [107/200] ... : 100%|██████████| 469/469 [00:06<00:00, 69.16it/s]\n"
     ]
    },
    {
     "name": "stdout",
     "output_type": "stream",
     "text": [
      "Epoch: 107/200 | Loss: 0.6568 | Accuracy: 0.7893 \n",
      "\n"
     ]
    },
    {
     "name": "stderr",
     "output_type": "stream",
     "text": [
      "Train [108/200] ... : 100%|██████████| 469/469 [00:06<00:00, 68.83it/s]\n"
     ]
    },
    {
     "name": "stdout",
     "output_type": "stream",
     "text": [
      "Epoch: 108/200 | Loss: 0.6522 | Accuracy: 0.7918 \n",
      "\n"
     ]
    },
    {
     "name": "stderr",
     "output_type": "stream",
     "text": [
      "Train [109/200] ... : 100%|██████████| 469/469 [00:06<00:00, 71.51it/s]\n"
     ]
    },
    {
     "name": "stdout",
     "output_type": "stream",
     "text": [
      "Epoch: 109/200 | Loss: 0.6485 | Accuracy: 0.7902 \n",
      "\n"
     ]
    },
    {
     "name": "stderr",
     "output_type": "stream",
     "text": [
      "Train [110/200] ... : 100%|██████████| 469/469 [00:07<00:00, 65.04it/s]\n"
     ]
    },
    {
     "name": "stdout",
     "output_type": "stream",
     "text": [
      "Epoch: 110/200 | Loss: 0.6533 | Accuracy: 0.7899 \n",
      "\n"
     ]
    },
    {
     "name": "stderr",
     "output_type": "stream",
     "text": [
      "Train [111/200] ... : 100%|██████████| 469/469 [00:06<00:00, 73.40it/s]\n"
     ]
    },
    {
     "name": "stdout",
     "output_type": "stream",
     "text": [
      "Epoch: 111/200 | Loss: 0.6508 | Accuracy: 0.7899 \n",
      "\n"
     ]
    },
    {
     "name": "stderr",
     "output_type": "stream",
     "text": [
      "Train [112/200] ... : 100%|██████████| 469/469 [00:07<00:00, 65.59it/s]\n"
     ]
    },
    {
     "name": "stdout",
     "output_type": "stream",
     "text": [
      "Epoch: 112/200 | Loss: 0.6446 | Accuracy: 0.7921 \n",
      "\n"
     ]
    },
    {
     "name": "stderr",
     "output_type": "stream",
     "text": [
      "Train [113/200] ... : 100%|██████████| 469/469 [00:06<00:00, 67.79it/s]\n"
     ]
    },
    {
     "name": "stdout",
     "output_type": "stream",
     "text": [
      "Epoch: 113/200 | Loss: 0.6503 | Accuracy: 0.7922 \n",
      "\n"
     ]
    },
    {
     "name": "stderr",
     "output_type": "stream",
     "text": [
      "Train [114/200] ... : 100%|██████████| 469/469 [00:06<00:00, 74.06it/s]\n"
     ]
    },
    {
     "name": "stdout",
     "output_type": "stream",
     "text": [
      "Epoch: 114/200 | Loss: 0.6397 | Accuracy: 0.7945 \n",
      "\n"
     ]
    },
    {
     "name": "stderr",
     "output_type": "stream",
     "text": [
      "Train [115/200] ... : 100%|██████████| 469/469 [00:07<00:00, 66.61it/s]\n"
     ]
    },
    {
     "name": "stdout",
     "output_type": "stream",
     "text": [
      "Epoch: 115/200 | Loss: 0.6421 | Accuracy: 0.7946 \n",
      "\n"
     ]
    },
    {
     "name": "stderr",
     "output_type": "stream",
     "text": [
      "Train [116/200] ... : 100%|██████████| 469/469 [00:06<00:00, 70.11it/s]\n"
     ]
    },
    {
     "name": "stdout",
     "output_type": "stream",
     "text": [
      "Epoch: 116/200 | Loss: 0.6396 | Accuracy: 0.7938 \n",
      "\n"
     ]
    },
    {
     "name": "stderr",
     "output_type": "stream",
     "text": [
      "Train [117/200] ... : 100%|██████████| 469/469 [00:06<00:00, 67.22it/s]\n"
     ]
    },
    {
     "name": "stdout",
     "output_type": "stream",
     "text": [
      "Epoch: 117/200 | Loss: 0.6371 | Accuracy: 0.7942 \n",
      "\n"
     ]
    },
    {
     "name": "stderr",
     "output_type": "stream",
     "text": [
      "Train [118/200] ... : 100%|██████████| 469/469 [00:06<00:00, 67.88it/s]\n"
     ]
    },
    {
     "name": "stdout",
     "output_type": "stream",
     "text": [
      "Epoch: 118/200 | Loss: 0.6363 | Accuracy: 0.7947 \n",
      "\n"
     ]
    },
    {
     "name": "stderr",
     "output_type": "stream",
     "text": [
      "Train [119/200] ... : 100%|██████████| 469/469 [00:06<00:00, 71.64it/s]\n"
     ]
    },
    {
     "name": "stdout",
     "output_type": "stream",
     "text": [
      "Epoch: 119/200 | Loss: 0.6334 | Accuracy: 0.7967 \n",
      "\n"
     ]
    },
    {
     "name": "stderr",
     "output_type": "stream",
     "text": [
      "Train [120/200] ... : 100%|██████████| 469/469 [00:06<00:00, 70.91it/s]\n"
     ]
    },
    {
     "name": "stdout",
     "output_type": "stream",
     "text": [
      "Epoch: 120/200 | Loss: 0.6330 | Accuracy: 0.7969 \n",
      "\n"
     ]
    },
    {
     "name": "stderr",
     "output_type": "stream",
     "text": [
      "Train [121/200] ... : 100%|██████████| 469/469 [00:06<00:00, 70.38it/s]\n"
     ]
    },
    {
     "name": "stdout",
     "output_type": "stream",
     "text": [
      "Epoch: 121/200 | Loss: 0.6285 | Accuracy: 0.7975 \n",
      "\n"
     ]
    },
    {
     "name": "stderr",
     "output_type": "stream",
     "text": [
      "Train [122/200] ... : 100%|██████████| 469/469 [00:06<00:00, 71.68it/s]\n"
     ]
    },
    {
     "name": "stdout",
     "output_type": "stream",
     "text": [
      "Epoch: 122/200 | Loss: 0.6309 | Accuracy: 0.7973 \n",
      "\n"
     ]
    },
    {
     "name": "stderr",
     "output_type": "stream",
     "text": [
      "Train [123/200] ... : 100%|██████████| 469/469 [00:06<00:00, 68.95it/s]\n"
     ]
    },
    {
     "name": "stdout",
     "output_type": "stream",
     "text": [
      "Epoch: 123/200 | Loss: 0.6301 | Accuracy: 0.7982 \n",
      "\n"
     ]
    },
    {
     "name": "stderr",
     "output_type": "stream",
     "text": [
      "Train [124/200] ... : 100%|██████████| 469/469 [00:06<00:00, 71.79it/s]\n"
     ]
    },
    {
     "name": "stdout",
     "output_type": "stream",
     "text": [
      "Epoch: 124/200 | Loss: 0.6288 | Accuracy: 0.7981 \n",
      "\n"
     ]
    },
    {
     "name": "stderr",
     "output_type": "stream",
     "text": [
      "Train [125/200] ... : 100%|██████████| 469/469 [00:06<00:00, 69.44it/s]\n"
     ]
    },
    {
     "name": "stdout",
     "output_type": "stream",
     "text": [
      "Epoch: 125/200 | Loss: 0.6284 | Accuracy: 0.7990 \n",
      "\n"
     ]
    },
    {
     "name": "stderr",
     "output_type": "stream",
     "text": [
      "Train [126/200] ... : 100%|██████████| 469/469 [00:06<00:00, 68.69it/s]\n"
     ]
    },
    {
     "name": "stdout",
     "output_type": "stream",
     "text": [
      "Epoch: 126/200 | Loss: 0.6238 | Accuracy: 0.7997 \n",
      "\n"
     ]
    },
    {
     "name": "stderr",
     "output_type": "stream",
     "text": [
      "Train [127/200] ... : 100%|██████████| 469/469 [00:07<00:00, 65.08it/s]\n"
     ]
    },
    {
     "name": "stdout",
     "output_type": "stream",
     "text": [
      "Epoch: 127/200 | Loss: 0.6247 | Accuracy: 0.8002 \n",
      "\n"
     ]
    },
    {
     "name": "stderr",
     "output_type": "stream",
     "text": [
      "Train [128/200] ... : 100%|██████████| 469/469 [00:06<00:00, 68.51it/s]\n"
     ]
    },
    {
     "name": "stdout",
     "output_type": "stream",
     "text": [
      "Epoch: 128/200 | Loss: 0.6233 | Accuracy: 0.8003 \n",
      "\n"
     ]
    },
    {
     "name": "stderr",
     "output_type": "stream",
     "text": [
      "Train [129/200] ... : 100%|██████████| 469/469 [00:06<00:00, 69.27it/s]\n"
     ]
    },
    {
     "name": "stdout",
     "output_type": "stream",
     "text": [
      "Epoch: 129/200 | Loss: 0.6264 | Accuracy: 0.7992 \n",
      "\n"
     ]
    },
    {
     "name": "stderr",
     "output_type": "stream",
     "text": [
      "Train [130/200] ... : 100%|██████████| 469/469 [00:06<00:00, 69.71it/s]\n"
     ]
    },
    {
     "name": "stdout",
     "output_type": "stream",
     "text": [
      "Epoch: 130/200 | Loss: 0.6154 | Accuracy: 0.8023 \n",
      "\n"
     ]
    },
    {
     "name": "stderr",
     "output_type": "stream",
     "text": [
      "Train [131/200] ... : 100%|██████████| 469/469 [00:06<00:00, 68.32it/s]\n"
     ]
    },
    {
     "name": "stdout",
     "output_type": "stream",
     "text": [
      "Epoch: 131/200 | Loss: 0.6198 | Accuracy: 0.8018 \n",
      "\n"
     ]
    },
    {
     "name": "stderr",
     "output_type": "stream",
     "text": [
      "Train [132/200] ... : 100%|██████████| 469/469 [00:06<00:00, 67.57it/s]\n"
     ]
    },
    {
     "name": "stdout",
     "output_type": "stream",
     "text": [
      "Epoch: 132/200 | Loss: 0.6177 | Accuracy: 0.8029 \n",
      "\n"
     ]
    },
    {
     "name": "stderr",
     "output_type": "stream",
     "text": [
      "Train [133/200] ... : 100%|██████████| 469/469 [00:06<00:00, 70.38it/s]\n"
     ]
    },
    {
     "name": "stdout",
     "output_type": "stream",
     "text": [
      "Epoch: 133/200 | Loss: 0.6155 | Accuracy: 0.8037 \n",
      "\n"
     ]
    },
    {
     "name": "stderr",
     "output_type": "stream",
     "text": [
      "Train [134/200] ... : 100%|██████████| 469/469 [00:06<00:00, 68.87it/s]\n"
     ]
    },
    {
     "name": "stdout",
     "output_type": "stream",
     "text": [
      "Epoch: 134/200 | Loss: 0.6140 | Accuracy: 0.8016 \n",
      "\n"
     ]
    },
    {
     "name": "stderr",
     "output_type": "stream",
     "text": [
      "Train [135/200] ... : 100%|██████████| 469/469 [00:06<00:00, 69.62it/s]\n"
     ]
    },
    {
     "name": "stdout",
     "output_type": "stream",
     "text": [
      "Epoch: 135/200 | Loss: 0.6146 | Accuracy: 0.8030 \n",
      "\n"
     ]
    },
    {
     "name": "stderr",
     "output_type": "stream",
     "text": [
      "Train [136/200] ... : 100%|██████████| 469/469 [00:07<00:00, 65.56it/s]\n"
     ]
    },
    {
     "name": "stdout",
     "output_type": "stream",
     "text": [
      "Epoch: 136/200 | Loss: 0.6082 | Accuracy: 0.8057 \n",
      "\n"
     ]
    },
    {
     "name": "stderr",
     "output_type": "stream",
     "text": [
      "Train [137/200] ... : 100%|██████████| 469/469 [00:06<00:00, 71.55it/s]\n"
     ]
    },
    {
     "name": "stdout",
     "output_type": "stream",
     "text": [
      "Epoch: 137/200 | Loss: 0.6093 | Accuracy: 0.8059 \n",
      "\n"
     ]
    },
    {
     "name": "stderr",
     "output_type": "stream",
     "text": [
      "Train [138/200] ... : 100%|██████████| 469/469 [00:06<00:00, 68.97it/s]\n"
     ]
    },
    {
     "name": "stdout",
     "output_type": "stream",
     "text": [
      "Epoch: 138/200 | Loss: 0.6057 | Accuracy: 0.8058 \n",
      "\n"
     ]
    },
    {
     "name": "stderr",
     "output_type": "stream",
     "text": [
      "Train [139/200] ... : 100%|██████████| 469/469 [00:07<00:00, 65.91it/s]\n"
     ]
    },
    {
     "name": "stdout",
     "output_type": "stream",
     "text": [
      "Epoch: 139/200 | Loss: 0.6090 | Accuracy: 0.8051 \n",
      "\n"
     ]
    },
    {
     "name": "stderr",
     "output_type": "stream",
     "text": [
      "Train [140/200] ... : 100%|██████████| 469/469 [00:06<00:00, 69.82it/s]\n"
     ]
    },
    {
     "name": "stdout",
     "output_type": "stream",
     "text": [
      "Epoch: 140/200 | Loss: 0.6063 | Accuracy: 0.8068 \n",
      "\n"
     ]
    },
    {
     "name": "stderr",
     "output_type": "stream",
     "text": [
      "Train [141/200] ... : 100%|██████████| 469/469 [00:07<00:00, 66.32it/s]\n"
     ]
    },
    {
     "name": "stdout",
     "output_type": "stream",
     "text": [
      "Epoch: 141/200 | Loss: 0.6005 | Accuracy: 0.8072 \n",
      "\n"
     ]
    },
    {
     "name": "stderr",
     "output_type": "stream",
     "text": [
      "Train [142/200] ... : 100%|██████████| 469/469 [00:06<00:00, 73.76it/s]\n"
     ]
    },
    {
     "name": "stdout",
     "output_type": "stream",
     "text": [
      "Epoch: 142/200 | Loss: 0.6059 | Accuracy: 0.8059 \n",
      "\n"
     ]
    },
    {
     "name": "stderr",
     "output_type": "stream",
     "text": [
      "Train [143/200] ... : 100%|██████████| 469/469 [00:06<00:00, 70.08it/s]\n"
     ]
    },
    {
     "name": "stdout",
     "output_type": "stream",
     "text": [
      "Epoch: 143/200 | Loss: 0.5992 | Accuracy: 0.8088 \n",
      "\n"
     ]
    },
    {
     "name": "stderr",
     "output_type": "stream",
     "text": [
      "Train [144/200] ... : 100%|██████████| 469/469 [00:06<00:00, 69.05it/s]\n"
     ]
    },
    {
     "name": "stdout",
     "output_type": "stream",
     "text": [
      "Epoch: 144/200 | Loss: 0.6038 | Accuracy: 0.8058 \n",
      "\n"
     ]
    },
    {
     "name": "stderr",
     "output_type": "stream",
     "text": [
      "Train [145/200] ... : 100%|██████████| 469/469 [00:07<00:00, 64.82it/s]\n"
     ]
    },
    {
     "name": "stdout",
     "output_type": "stream",
     "text": [
      "Epoch: 145/200 | Loss: 0.6003 | Accuracy: 0.8082 \n",
      "\n"
     ]
    },
    {
     "name": "stderr",
     "output_type": "stream",
     "text": [
      "Train [146/200] ... : 100%|██████████| 469/469 [00:07<00:00, 66.26it/s]\n"
     ]
    },
    {
     "name": "stdout",
     "output_type": "stream",
     "text": [
      "Epoch: 146/200 | Loss: 0.5966 | Accuracy: 0.8100 \n",
      "\n"
     ]
    },
    {
     "name": "stderr",
     "output_type": "stream",
     "text": [
      "Train [147/200] ... : 100%|██████████| 469/469 [00:06<00:00, 67.73it/s]\n"
     ]
    },
    {
     "name": "stdout",
     "output_type": "stream",
     "text": [
      "Epoch: 147/200 | Loss: 0.5938 | Accuracy: 0.8121 \n",
      "\n"
     ]
    },
    {
     "name": "stderr",
     "output_type": "stream",
     "text": [
      "Train [148/200] ... : 100%|██████████| 469/469 [00:07<00:00, 65.94it/s]\n"
     ]
    },
    {
     "name": "stdout",
     "output_type": "stream",
     "text": [
      "Epoch: 148/200 | Loss: 0.5941 | Accuracy: 0.8108 \n",
      "\n"
     ]
    },
    {
     "name": "stderr",
     "output_type": "stream",
     "text": [
      "Train [149/200] ... : 100%|██████████| 469/469 [00:06<00:00, 68.02it/s]\n"
     ]
    },
    {
     "name": "stdout",
     "output_type": "stream",
     "text": [
      "Epoch: 149/200 | Loss: 0.5925 | Accuracy: 0.8103 \n",
      "\n"
     ]
    },
    {
     "name": "stderr",
     "output_type": "stream",
     "text": [
      "Train [150/200] ... : 100%|██████████| 469/469 [00:06<00:00, 71.27it/s]\n"
     ]
    },
    {
     "name": "stdout",
     "output_type": "stream",
     "text": [
      "Epoch: 150/200 | Loss: 0.5958 | Accuracy: 0.8113 \n",
      "\n"
     ]
    },
    {
     "name": "stderr",
     "output_type": "stream",
     "text": [
      "Train [151/200] ... : 100%|██████████| 469/469 [00:06<00:00, 69.83it/s]\n"
     ]
    },
    {
     "name": "stdout",
     "output_type": "stream",
     "text": [
      "Epoch: 151/200 | Loss: 0.5970 | Accuracy: 0.8098 \n",
      "\n"
     ]
    },
    {
     "name": "stderr",
     "output_type": "stream",
     "text": [
      "Train [152/200] ... : 100%|██████████| 469/469 [00:06<00:00, 68.42it/s]\n"
     ]
    },
    {
     "name": "stdout",
     "output_type": "stream",
     "text": [
      "Epoch: 152/200 | Loss: 0.5926 | Accuracy: 0.8089 \n",
      "\n"
     ]
    },
    {
     "name": "stderr",
     "output_type": "stream",
     "text": [
      "Train [153/200] ... : 100%|██████████| 469/469 [00:08<00:00, 53.05it/s]\n"
     ]
    },
    {
     "name": "stdout",
     "output_type": "stream",
     "text": [
      "Epoch: 153/200 | Loss: 0.5881 | Accuracy: 0.8135 \n",
      "\n"
     ]
    },
    {
     "name": "stderr",
     "output_type": "stream",
     "text": [
      "Train [154/200] ... : 100%|██████████| 469/469 [00:08<00:00, 53.33it/s]\n"
     ]
    },
    {
     "name": "stdout",
     "output_type": "stream",
     "text": [
      "Epoch: 154/200 | Loss: 0.5858 | Accuracy: 0.8133 \n",
      "\n"
     ]
    },
    {
     "name": "stderr",
     "output_type": "stream",
     "text": [
      "Train [155/200] ... : 100%|██████████| 469/469 [00:06<00:00, 70.32it/s]\n"
     ]
    },
    {
     "name": "stdout",
     "output_type": "stream",
     "text": [
      "Epoch: 155/200 | Loss: 0.5898 | Accuracy: 0.8119 \n",
      "\n"
     ]
    },
    {
     "name": "stderr",
     "output_type": "stream",
     "text": [
      "Train [156/200] ... : 100%|██████████| 469/469 [00:08<00:00, 57.67it/s]\n"
     ]
    },
    {
     "name": "stdout",
     "output_type": "stream",
     "text": [
      "Epoch: 156/200 | Loss: 0.5832 | Accuracy: 0.8151 \n",
      "\n"
     ]
    },
    {
     "name": "stderr",
     "output_type": "stream",
     "text": [
      "Train [157/200] ... : 100%|██████████| 469/469 [00:08<00:00, 55.07it/s]\n"
     ]
    },
    {
     "name": "stdout",
     "output_type": "stream",
     "text": [
      "Epoch: 157/200 | Loss: 0.5840 | Accuracy: 0.8141 \n",
      "\n"
     ]
    },
    {
     "name": "stderr",
     "output_type": "stream",
     "text": [
      "Train [158/200] ... : 100%|██████████| 469/469 [00:07<00:00, 58.80it/s]\n"
     ]
    },
    {
     "name": "stdout",
     "output_type": "stream",
     "text": [
      "Epoch: 158/200 | Loss: 0.5819 | Accuracy: 0.8140 \n",
      "\n"
     ]
    },
    {
     "name": "stderr",
     "output_type": "stream",
     "text": [
      "Train [159/200] ... : 100%|██████████| 469/469 [00:07<00:00, 64.88it/s]\n"
     ]
    },
    {
     "name": "stdout",
     "output_type": "stream",
     "text": [
      "Epoch: 159/200 | Loss: 0.5854 | Accuracy: 0.8138 \n",
      "\n"
     ]
    },
    {
     "name": "stderr",
     "output_type": "stream",
     "text": [
      "Train [160/200] ... : 100%|██████████| 469/469 [00:09<00:00, 51.39it/s]\n"
     ]
    },
    {
     "name": "stdout",
     "output_type": "stream",
     "text": [
      "Epoch: 160/200 | Loss: 0.5849 | Accuracy: 0.8134 \n",
      "\n"
     ]
    },
    {
     "name": "stderr",
     "output_type": "stream",
     "text": [
      "Train [161/200] ... : 100%|██████████| 469/469 [00:07<00:00, 65.32it/s]\n"
     ]
    },
    {
     "name": "stdout",
     "output_type": "stream",
     "text": [
      "Epoch: 161/200 | Loss: 0.5837 | Accuracy: 0.8142 \n",
      "\n"
     ]
    },
    {
     "name": "stderr",
     "output_type": "stream",
     "text": [
      "Train [162/200] ... : 100%|██████████| 469/469 [00:07<00:00, 59.44it/s]\n"
     ]
    },
    {
     "name": "stdout",
     "output_type": "stream",
     "text": [
      "Epoch: 162/200 | Loss: 0.5793 | Accuracy: 0.8145 \n",
      "\n"
     ]
    },
    {
     "name": "stderr",
     "output_type": "stream",
     "text": [
      "Train [163/200] ... : 100%|██████████| 469/469 [00:07<00:00, 62.42it/s]\n"
     ]
    },
    {
     "name": "stdout",
     "output_type": "stream",
     "text": [
      "Epoch: 163/200 | Loss: 0.5791 | Accuracy: 0.8161 \n",
      "\n"
     ]
    },
    {
     "name": "stderr",
     "output_type": "stream",
     "text": [
      "Train [164/200] ... : 100%|██████████| 469/469 [00:07<00:00, 62.33it/s]\n"
     ]
    },
    {
     "name": "stdout",
     "output_type": "stream",
     "text": [
      "Epoch: 164/200 | Loss: 0.5751 | Accuracy: 0.8180 \n",
      "\n"
     ]
    },
    {
     "name": "stderr",
     "output_type": "stream",
     "text": [
      "Train [165/200] ... : 100%|██████████| 469/469 [00:07<00:00, 64.74it/s]\n"
     ]
    },
    {
     "name": "stdout",
     "output_type": "stream",
     "text": [
      "Epoch: 165/200 | Loss: 0.5749 | Accuracy: 0.8175 \n",
      "\n"
     ]
    },
    {
     "name": "stderr",
     "output_type": "stream",
     "text": [
      "Train [166/200] ... : 100%|██████████| 469/469 [00:09<00:00, 50.82it/s]\n"
     ]
    },
    {
     "name": "stdout",
     "output_type": "stream",
     "text": [
      "Epoch: 166/200 | Loss: 0.5780 | Accuracy: 0.8153 \n",
      "\n"
     ]
    },
    {
     "name": "stderr",
     "output_type": "stream",
     "text": [
      "Train [167/200] ... : 100%|██████████| 469/469 [00:07<00:00, 59.98it/s]\n"
     ]
    },
    {
     "name": "stdout",
     "output_type": "stream",
     "text": [
      "Epoch: 167/200 | Loss: 0.5738 | Accuracy: 0.8180 \n",
      "\n"
     ]
    },
    {
     "name": "stderr",
     "output_type": "stream",
     "text": [
      "Train [168/200] ... : 100%|██████████| 469/469 [00:07<00:00, 66.96it/s]\n"
     ]
    },
    {
     "name": "stdout",
     "output_type": "stream",
     "text": [
      "Epoch: 168/200 | Loss: 0.5735 | Accuracy: 0.8182 \n",
      "\n"
     ]
    },
    {
     "name": "stderr",
     "output_type": "stream",
     "text": [
      "Train [169/200] ... : 100%|██████████| 469/469 [00:09<00:00, 48.87it/s]\n"
     ]
    },
    {
     "name": "stdout",
     "output_type": "stream",
     "text": [
      "Epoch: 169/200 | Loss: 0.5740 | Accuracy: 0.8169 \n",
      "\n"
     ]
    },
    {
     "name": "stderr",
     "output_type": "stream",
     "text": [
      "Train [170/200] ... : 100%|██████████| 469/469 [00:07<00:00, 59.04it/s]\n"
     ]
    },
    {
     "name": "stdout",
     "output_type": "stream",
     "text": [
      "Epoch: 170/200 | Loss: 0.5712 | Accuracy: 0.8181 \n",
      "\n"
     ]
    },
    {
     "name": "stderr",
     "output_type": "stream",
     "text": [
      "Train [171/200] ... : 100%|██████████| 469/469 [00:09<00:00, 51.01it/s]\n"
     ]
    },
    {
     "name": "stdout",
     "output_type": "stream",
     "text": [
      "Epoch: 171/200 | Loss: 0.5733 | Accuracy: 0.8173 \n",
      "\n"
     ]
    },
    {
     "name": "stderr",
     "output_type": "stream",
     "text": [
      "Train [172/200] ... : 100%|██████████| 469/469 [00:07<00:00, 65.61it/s]\n"
     ]
    },
    {
     "name": "stdout",
     "output_type": "stream",
     "text": [
      "Epoch: 172/200 | Loss: 0.5737 | Accuracy: 0.8186 \n",
      "\n"
     ]
    },
    {
     "name": "stderr",
     "output_type": "stream",
     "text": [
      "Train [173/200] ... : 100%|██████████| 469/469 [00:08<00:00, 53.18it/s]\n"
     ]
    },
    {
     "name": "stdout",
     "output_type": "stream",
     "text": [
      "Epoch: 173/200 | Loss: 0.5662 | Accuracy: 0.8208 \n",
      "\n"
     ]
    },
    {
     "name": "stderr",
     "output_type": "stream",
     "text": [
      "Train [174/200] ... : 100%|██████████| 469/469 [00:07<00:00, 65.67it/s]\n"
     ]
    },
    {
     "name": "stdout",
     "output_type": "stream",
     "text": [
      "Epoch: 174/200 | Loss: 0.5674 | Accuracy: 0.8194 \n",
      "\n"
     ]
    },
    {
     "name": "stderr",
     "output_type": "stream",
     "text": [
      "Train [175/200] ... : 100%|██████████| 469/469 [00:07<00:00, 60.90it/s]\n"
     ]
    },
    {
     "name": "stdout",
     "output_type": "stream",
     "text": [
      "Epoch: 175/200 | Loss: 0.5731 | Accuracy: 0.8175 \n",
      "\n"
     ]
    },
    {
     "name": "stderr",
     "output_type": "stream",
     "text": [
      "Train [176/200] ... : 100%|██████████| 469/469 [00:07<00:00, 65.67it/s]\n"
     ]
    },
    {
     "name": "stdout",
     "output_type": "stream",
     "text": [
      "Epoch: 176/200 | Loss: 0.5746 | Accuracy: 0.8146 \n",
      "\n"
     ]
    },
    {
     "name": "stderr",
     "output_type": "stream",
     "text": [
      "Train [177/200] ... : 100%|██████████| 469/469 [00:08<00:00, 53.15it/s]\n"
     ]
    },
    {
     "name": "stdout",
     "output_type": "stream",
     "text": [
      "Epoch: 177/200 | Loss: 0.5671 | Accuracy: 0.8190 \n",
      "\n"
     ]
    },
    {
     "name": "stderr",
     "output_type": "stream",
     "text": [
      "Train [178/200] ... : 100%|██████████| 469/469 [00:07<00:00, 60.12it/s]\n"
     ]
    },
    {
     "name": "stdout",
     "output_type": "stream",
     "text": [
      "Epoch: 178/200 | Loss: 0.5637 | Accuracy: 0.8218 \n",
      "\n"
     ]
    },
    {
     "name": "stderr",
     "output_type": "stream",
     "text": [
      "Train [179/200] ... : 100%|██████████| 469/469 [00:07<00:00, 61.37it/s]\n"
     ]
    },
    {
     "name": "stdout",
     "output_type": "stream",
     "text": [
      "Epoch: 179/200 | Loss: 0.5592 | Accuracy: 0.8213 \n",
      "\n"
     ]
    },
    {
     "name": "stderr",
     "output_type": "stream",
     "text": [
      "Train [180/200] ... : 100%|██████████| 469/469 [00:06<00:00, 67.31it/s]\n"
     ]
    },
    {
     "name": "stdout",
     "output_type": "stream",
     "text": [
      "Epoch: 180/200 | Loss: 0.5640 | Accuracy: 0.8202 \n",
      "\n"
     ]
    },
    {
     "name": "stderr",
     "output_type": "stream",
     "text": [
      "Train [181/200] ... : 100%|██████████| 469/469 [00:08<00:00, 57.73it/s]\n"
     ]
    },
    {
     "name": "stdout",
     "output_type": "stream",
     "text": [
      "Epoch: 181/200 | Loss: 0.5628 | Accuracy: 0.8217 \n",
      "\n"
     ]
    },
    {
     "name": "stderr",
     "output_type": "stream",
     "text": [
      "Train [182/200] ... : 100%|██████████| 469/469 [00:06<00:00, 69.29it/s]\n"
     ]
    },
    {
     "name": "stdout",
     "output_type": "stream",
     "text": [
      "Epoch: 182/200 | Loss: 0.5596 | Accuracy: 0.8225 \n",
      "\n"
     ]
    },
    {
     "name": "stderr",
     "output_type": "stream",
     "text": [
      "Train [183/200] ... : 100%|██████████| 469/469 [00:06<00:00, 68.67it/s]\n"
     ]
    },
    {
     "name": "stdout",
     "output_type": "stream",
     "text": [
      "Epoch: 183/200 | Loss: 0.5650 | Accuracy: 0.8206 \n",
      "\n"
     ]
    },
    {
     "name": "stderr",
     "output_type": "stream",
     "text": [
      "Train [184/200] ... : 100%|██████████| 469/469 [00:06<00:00, 67.90it/s]\n"
     ]
    },
    {
     "name": "stdout",
     "output_type": "stream",
     "text": [
      "Epoch: 184/200 | Loss: 0.5557 | Accuracy: 0.8233 \n",
      "\n"
     ]
    },
    {
     "name": "stderr",
     "output_type": "stream",
     "text": [
      "Train [185/200] ... : 100%|██████████| 469/469 [00:08<00:00, 54.34it/s]\n"
     ]
    },
    {
     "name": "stdout",
     "output_type": "stream",
     "text": [
      "Epoch: 185/200 | Loss: 0.5628 | Accuracy: 0.8210 \n",
      "\n"
     ]
    },
    {
     "name": "stderr",
     "output_type": "stream",
     "text": [
      "Train [186/200] ... : 100%|██████████| 469/469 [00:07<00:00, 64.99it/s]\n"
     ]
    },
    {
     "name": "stdout",
     "output_type": "stream",
     "text": [
      "Epoch: 186/200 | Loss: 0.5584 | Accuracy: 0.8218 \n",
      "\n"
     ]
    },
    {
     "name": "stderr",
     "output_type": "stream",
     "text": [
      "Train [187/200] ... : 100%|██████████| 469/469 [00:07<00:00, 61.70it/s]\n"
     ]
    },
    {
     "name": "stdout",
     "output_type": "stream",
     "text": [
      "Epoch: 187/200 | Loss: 0.5518 | Accuracy: 0.8252 \n",
      "\n"
     ]
    },
    {
     "name": "stderr",
     "output_type": "stream",
     "text": [
      "Train [188/200] ... : 100%|██████████| 469/469 [00:07<00:00, 59.00it/s]\n"
     ]
    },
    {
     "name": "stdout",
     "output_type": "stream",
     "text": [
      "Epoch: 188/200 | Loss: 0.5537 | Accuracy: 0.8249 \n",
      "\n"
     ]
    },
    {
     "name": "stderr",
     "output_type": "stream",
     "text": [
      "Train [189/200] ... : 100%|██████████| 469/469 [00:09<00:00, 49.42it/s]\n"
     ]
    },
    {
     "name": "stdout",
     "output_type": "stream",
     "text": [
      "Epoch: 189/200 | Loss: 0.5602 | Accuracy: 0.8228 \n",
      "\n"
     ]
    },
    {
     "name": "stderr",
     "output_type": "stream",
     "text": [
      "Train [190/200] ... : 100%|██████████| 469/469 [00:07<00:00, 65.43it/s]\n"
     ]
    },
    {
     "name": "stdout",
     "output_type": "stream",
     "text": [
      "Epoch: 190/200 | Loss: 0.5536 | Accuracy: 0.8239 \n",
      "\n"
     ]
    },
    {
     "name": "stderr",
     "output_type": "stream",
     "text": [
      "Train [191/200] ... : 100%|██████████| 469/469 [00:07<00:00, 60.23it/s]\n"
     ]
    },
    {
     "name": "stdout",
     "output_type": "stream",
     "text": [
      "Epoch: 191/200 | Loss: 0.5469 | Accuracy: 0.8266 \n",
      "\n"
     ]
    },
    {
     "name": "stderr",
     "output_type": "stream",
     "text": [
      "Train [192/200] ... : 100%|██████████| 469/469 [00:07<00:00, 63.44it/s]\n"
     ]
    },
    {
     "name": "stdout",
     "output_type": "stream",
     "text": [
      "Epoch: 192/200 | Loss: 0.5539 | Accuracy: 0.8234 \n",
      "\n"
     ]
    },
    {
     "name": "stderr",
     "output_type": "stream",
     "text": [
      "Train [193/200] ... : 100%|██████████| 469/469 [00:07<00:00, 66.44it/s]\n"
     ]
    },
    {
     "name": "stdout",
     "output_type": "stream",
     "text": [
      "Epoch: 193/200 | Loss: 0.5527 | Accuracy: 0.8254 \n",
      "\n"
     ]
    },
    {
     "name": "stderr",
     "output_type": "stream",
     "text": [
      "Train [194/200] ... : 100%|██████████| 469/469 [00:07<00:00, 65.09it/s]\n"
     ]
    },
    {
     "name": "stdout",
     "output_type": "stream",
     "text": [
      "Epoch: 194/200 | Loss: 0.5513 | Accuracy: 0.8267 \n",
      "\n"
     ]
    },
    {
     "name": "stderr",
     "output_type": "stream",
     "text": [
      "Train [195/200] ... : 100%|██████████| 469/469 [00:07<00:00, 61.12it/s]\n"
     ]
    },
    {
     "name": "stdout",
     "output_type": "stream",
     "text": [
      "Epoch: 195/200 | Loss: 0.5519 | Accuracy: 0.8250 \n",
      "\n"
     ]
    },
    {
     "name": "stderr",
     "output_type": "stream",
     "text": [
      "Train [196/200] ... : 100%|██████████| 469/469 [00:08<00:00, 56.78it/s]\n"
     ]
    },
    {
     "name": "stdout",
     "output_type": "stream",
     "text": [
      "Epoch: 196/200 | Loss: 0.5489 | Accuracy: 0.8257 \n",
      "\n"
     ]
    },
    {
     "name": "stderr",
     "output_type": "stream",
     "text": [
      "Train [197/200] ... : 100%|██████████| 469/469 [00:07<00:00, 61.73it/s]\n"
     ]
    },
    {
     "name": "stdout",
     "output_type": "stream",
     "text": [
      "Epoch: 197/200 | Loss: 0.5514 | Accuracy: 0.8245 \n",
      "\n"
     ]
    },
    {
     "name": "stderr",
     "output_type": "stream",
     "text": [
      "Train [198/200] ... : 100%|██████████| 469/469 [00:08<00:00, 54.63it/s]\n"
     ]
    },
    {
     "name": "stdout",
     "output_type": "stream",
     "text": [
      "Epoch: 198/200 | Loss: 0.5455 | Accuracy: 0.8259 \n",
      "\n"
     ]
    },
    {
     "name": "stderr",
     "output_type": "stream",
     "text": [
      "Train [199/200] ... : 100%|██████████| 469/469 [00:09<00:00, 48.97it/s]\n"
     ]
    },
    {
     "name": "stdout",
     "output_type": "stream",
     "text": [
      "Epoch: 199/200 | Loss: 0.5427 | Accuracy: 0.8276 \n",
      "\n"
     ]
    },
    {
     "name": "stderr",
     "output_type": "stream",
     "text": [
      "Train [200/200] ... : 100%|██████████| 469/469 [00:08<00:00, 56.44it/s]"
     ]
    },
    {
     "name": "stdout",
     "output_type": "stream",
     "text": [
      "Epoch: 200/200 | Loss: 0.5473 | Accuracy: 0.8257 \n",
      "\n"
     ]
    },
    {
     "name": "stderr",
     "output_type": "stream",
     "text": [
      "\n"
     ]
    }
   ],
   "source": [
    "model.to(DEVICE)\n",
    "\n",
    "train_losses = list()\n",
    "train_acc = list()\n",
    "\n",
    "# wandb for everything - grad and params\n",
    "wandb_run.watch(model, log='all', log_freq=10)\n",
    "\n",
    "# train loop\n",
    "for epoch in range(EPOCHS):\n",
    "\n",
    "  model.train()\n",
    "\n",
    "  epoch_loss = 0\n",
    "  epoch_acc = 0\n",
    "  train_total = 0\n",
    "\n",
    "  for batch in tqdm(train_loader, desc=f\"Train [{epoch+1}/{EPOCHS}] ... \"):\n",
    "\n",
    "    optimizer.zero_grad()\n",
    "\n",
    "    images, labels = batch\n",
    "    images = images.to(DEVICE)\n",
    "    labels = labels.to(DEVICE)\n",
    "\n",
    "    outputs = model(images)\n",
    "\n",
    "    loss = loss_func(outputs, labels)\n",
    "\n",
    "    loss.backward()\n",
    "    optimizer.step()\n",
    "\n",
    "    # metrics\n",
    "    epoch_loss += loss.item() * labels.size(0)\n",
    "\n",
    "    acc = torch.argmax(outputs, dim=1)\n",
    "    epoch_acc += (acc == labels).sum().item()\n",
    "\n",
    "    train_total += labels.size(0)\n",
    "\n",
    "  # \n",
    "  # evaluate - i'll get some data from training, ~ (5-10)k for evaluation while training, it cool\n",
    "\n",
    "  # metrics\n",
    "  # \n",
    "  el = epoch_loss / train_total\n",
    "  ea = epoch_acc / train_total\n",
    "\n",
    "  train_losses.append(el)\n",
    "  train_acc.append(ea)\n",
    "\n",
    "  print(f\"Epoch: {epoch+1}/{EPOCHS} | Loss: {el:.4f} | Accuracy: {ea:.4f} \\n\")\n",
    "  wandb_run.log({'epoch': epoch+1, 'train_loss':el, 'train_accuracy': ea })"
   ]
  },
  {
   "cell_type": "markdown",
   "id": "28c13013",
   "metadata": {},
   "source": [
    "# Learning Curve"
   ]
  },
  {
   "cell_type": "code",
   "execution_count": 27,
   "id": "8735270d",
   "metadata": {},
   "outputs": [
    {
     "data": {
      "image/png": "[encoded data removed]",
      "text/plain": [
       "<Figure size 1500x500 with 2 Axes>"
      ]
     },
     "metadata": {},
     "output_type": "display_data"
    }
   ],
   "source": [
    "plt.figure(figsize=(15, 5))\n",
    "\n",
    "\n",
    "plt.subplot(1, 2, 1)\n",
    "plt.plot(train_losses, color='red', label='Train loss')\n",
    "plt.title(f\"Losses | Epoch: {EPOCHS}\")\n",
    "plt.ylabel(\"Loss\")\n",
    "plt.xlabel(\"Epoch\")\n",
    "plt.grid()\n",
    "\n",
    "plt.subplot(1, 2, 2)\n",
    "plt.plot(train_acc, color='green', label='Train acc')\n",
    "plt.ylabel(\"Accuracy\")\n",
    "plt.xlabel(\"Epoch\")\n",
    "plt.title(f\"Accuracy | Epoch: {EPOCHS}\")\n",
    "plt.grid()\n",
    "\n",
    "plt.tight_layout()\n",
    "plt.show()"
   ]
  },
  {
   "cell_type": "markdown",
   "id": "c06d415c",
   "metadata": {},
   "source": [
    "# Test"
   ]
  },
  {
   "cell_type": "code",
   "execution_count": 28,
   "id": "dfb516a2",
   "metadata": {},
   "outputs": [
    {
     "name": "stderr",
     "output_type": "stream",
     "text": [
      "Evaluating Model ... : 100%|██████████| 79/79 [00:00<00:00, 111.04it/s]\n"
     ]
    }
   ],
   "source": [
    "model.eval()\n",
    "\n",
    "true_labels = list()\n",
    "pred_labels = list()\n",
    "pred_probs = list()\n",
    "test_loss = 0\n",
    "total_samples = 0\n",
    "\n",
    "with torch.no_grad():\n",
    "\n",
    "  for test_batch in tqdm(test_loader, desc=\"Evaluating Model ... \"):\n",
    "    images, labels = test_batch\n",
    "    images = images.to(DEVICE)\n",
    "    labels = labels.to(DEVICE)\n",
    "\n",
    "    outputs = model(images)\n",
    "\n",
    "    preds = torch.argmax(outputs, dim=1)\n",
    "\n",
    "    # loss\n",
    "    loss = loss_func(outputs, labels)\n",
    "    test_loss += loss.item() * images.size(0)\n",
    "    total_samples += images.size(0)\n",
    "\n",
    "    true_labels.extend(labels.cpu().numpy())\n",
    "    pred_labels.extend(preds.cpu().numpy())\n",
    "    pred_probs.append( nn.functional.softmax(outputs, dim=1).cpu().numpy() ) # wanna get probs of each class, for roc-auc\n",
    "\n",
    "true_labels = np.array(true_labels)\n",
    "pred_labels = np.array(pred_labels)\n",
    "avg_test_loss = test_loss / total_samples\n",
    "pred_probs = np.vstack(pred_probs)\n",
    "\n",
    "roc_auc = roc_auc_score(true_labels, pred_probs, multi_class='ovr', average='macro')"
   ]
  },
  {
   "cell_type": "code",
   "execution_count": 29,
   "id": "1ce541e4",
   "metadata": {},
   "outputs": [
    {
     "name": "stdout",
     "output_type": "stream",
     "text": [
      "ROC-AUC : 0.9849\n",
      "              precision    recall  f1-score   support\n",
      "\n",
      "           0       0.78      0.92      0.84       980\n",
      "           1       0.96      0.99      0.98      1135\n",
      "           2       0.77      0.65      0.71      1032\n",
      "           3       0.86      0.90      0.88      1010\n",
      "           4       0.94      0.83      0.88       982\n",
      "           5       0.78      0.85      0.81       892\n",
      "           6       0.81      0.72      0.77       958\n",
      "           7       0.83      0.94      0.88      1028\n",
      "           8       0.91      0.77      0.84       974\n",
      "           9       0.79      0.84      0.82      1009\n",
      "\n",
      "    accuracy                           0.84     10000\n",
      "   macro avg       0.84      0.84      0.84     10000\n",
      "weighted avg       0.85      0.84      0.84     10000\n",
      "\n"
     ]
    }
   ],
   "source": [
    "print(f\"\"\"ROC-AUC : {roc_auc:.4f}\"\"\")\n",
    "\n",
    "print(\n",
    "  classification_report(\n",
    "    true_labels, pred_labels, zero_division=1\n",
    "  )\n",
    ")"
   ]
  },
  {
   "cell_type": "markdown",
   "id": "3dccae75",
   "metadata": {},
   "source": [
    "## Confusion matrix"
   ]
  },
  {
   "cell_type": "code",
   "execution_count": 30,
   "id": "6ff7556c",
   "metadata": {},
   "outputs": [
    {
     "data": {
      "image/png": "[encoded data removed]",
      "text/plain": [
       "<Figure size 1000x600 with 2 Axes>"
      ]
     },
     "metadata": {},
     "output_type": "display_data"
    }
   ],
   "source": [
    "conf = confusion_matrix(true_labels, pred_labels)\n",
    "plt.figure(figsize=(10, 6))\n",
    "sns.heatmap(conf, annot=True, fmt='d')\n",
    "plt.xlabel(\"Pred Label\")\n",
    "plt.ylabel(\"True Label\")\n",
    "plt.title(f\"Mnist Confusion Matrix | Avg Test Loss : {avg_test_loss:.3f} \\n\")\n",
    "plt.show()"
   ]
  },
  {
   "cell_type": "markdown",
   "id": "a40117ca",
   "metadata": {},
   "source": [
    "## Receiver operating characteristic - Area under curve\n",
    "- one vs rest .. because this is multi-class .. to be able to tell, how the model is able to distinguish between the 10 different classes .. from the graph the model is doing well .. line from (0,0) to (1,1) tells that the model is not able to distinguish between false positive rate and true positive rate, but from the graph below the model is well and can distinguish between classes : true positive rate != false positive rate"
   ]
  },
  {
   "cell_type": "code",
   "execution_count": 31,
   "id": "fab57d92",
   "metadata": {},
   "outputs": [
    {
     "data": {
      "image/png": "[encoded data removed]",
      "text/plain": [
       "<Figure size 1000x800 with 1 Axes>"
      ]
     },
     "metadata": {},
     "output_type": "display_data"
    }
   ],
   "source": [
    "\n",
    "\n",
    "plt.figure(figsize=(10, 8))\n",
    "for class_ in range(NUM_CLASSES):\n",
    "  fpr, tpr, _ = roc_curve(true_labels == class_, pred_probs[:, class_])\n",
    "  plt.plot(fpr, tpr, label=f'Class {class_} (AUC = {roc_auc_score(true_labels == class_, pred_probs[:, class_]):.2f})')\n",
    "plt.plot([0, 1], [0, 1], 'k--')\n",
    "plt.xlabel('False Positive Rate')\n",
    "plt.ylabel('True Positive Rate')\n",
    "plt.title(f'ROC Curves <one vs rest> | ROC Value: {roc_auc:.4f} \\n')\n",
    "plt.legend()\n",
    "plt.show()"
   ]
  },
  {
   "cell_type": "code",
   "execution_count": 32,
   "id": "26dd5d43",
   "metadata": {},
   "outputs": [
    {
     "data": {
      "text/html": [],
      "text/plain": [
       "<IPython.core.display.HTML object>"
      ]
     },
     "metadata": {},
     "output_type": "display_data"
    },
    {
     "data": {
      "text/html": [
       "<br>    <style><br>        .wandb-row {<br>            display: flex;<br>            flex-direction: row;<br>            flex-wrap: wrap;<br>            justify-content: flex-start;<br>            width: 100%;<br>        }<br>        .wandb-col {<br>            display: flex;<br>            flex-direction: column;<br>            flex-basis: 100%;<br>            flex: 1;<br>            padding: 10px;<br>        }<br>    </style><br><div class=\"wandb-row\"><div class=\"wandb-col\"><h3>Run history:</h3><br/><table class=\"wandb\"><tr><td>epoch</td><td>▁▁▁▁▁▁▁▂▂▂▂▂▂▂▂▃▃▃▃▄▄▄▄▄▄▅▅▆▆▆▇▇▇▇▇▇▇▇▇█</td></tr><tr><td>train_accuracy</td><td>▁▁▂▂▄▄▅▆▆▆▆▆▆▆▆▇▇▇▇▇▇▇▇▇▇▇▇█████████████</td></tr><tr><td>train_loss</td><td>██▇▆▆▆▅▅▄▄▃▃▃▃▃▃▂▂▂▂▂▂▂▂▂▂▂▂▂▂▂▁▁▁▁▁▁▁▁▁</td></tr></table><br/></div><div class=\"wandb-col\"><h3>Run summary:</h3><br/><table class=\"wandb\"><tr><td>epoch</td><td>200</td></tr><tr><td>train_accuracy</td><td>0.82567</td></tr><tr><td>train_loss</td><td>0.5473</td></tr></table><br/></div></div>"
      ],
      "text/plain": [
       "<IPython.core.display.HTML object>"
      ]
     },
     "metadata": {},
     "output_type": "display_data"
    },
    {
     "data": {
      "text/html": [
       " View run <strong style=\"color:#cdcd00\">noble-smoke-2</strong> at: <a href='https://wandb.ai/kibs/learn-wandb/runs/k9991tmz' target=\"_blank\">https://wandb.ai/kibs/learn-wandb/runs/k9991tmz</a><br> View project at: <a href='https://wandb.ai/kibs/learn-wandb' target=\"_blank\">https://wandb.ai/kibs/learn-wandb</a><br>Synced 5 W&B file(s), 0 media file(s), 0 artifact file(s) and 0 other file(s)"
      ],
      "text/plain": [
       "<IPython.core.display.HTML object>"
      ]
     },
     "metadata": {},
     "output_type": "display_data"
    },
    {
     "data": {
      "text/html": [
       "Find logs at: <code>./wandb/run-20250803_011601-k9991tmz/logs</code>"
      ],
      "text/plain": [
       "<IPython.core.display.HTML object>"
      ]
     },
     "metadata": {},
     "output_type": "display_data"
    }
   ],
   "source": [
    "# end - wandb\n",
    "wandb_run.finish()"
   ]
  }
 ],
 "metadata": {
  "kernelspec": {
   "display_name": "env- (3.10.17)",
   "language": "python",
   "name": "python3"
  },
  "language_info": {
   "codemirror_mode": {
    "name": "ipython",
    "version": 3
   },
   "file_extension": ".py",
   "mimetype": "text/x-python",
   "name": "python",
   "nbconvert_exporter": "python",
   "pygments_lexer": "ipython3",
   "version": "3.10.17"
  }
 },
 "nbformat": 4,
 "nbformat_minor": 5
}
