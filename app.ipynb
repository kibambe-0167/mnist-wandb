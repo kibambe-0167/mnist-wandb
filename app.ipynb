{
 "cells": [
  {
   "cell_type": "code",
   "execution_count": null,
   "id": "e25374b3",
   "metadata": {},
   "outputs": [],
   "source": [
    "from sklearn.metrics import classification_report, confusion_matrix, roc_auc_score, roc_curve\n",
    "from torch.profiler import profile, record_function, ProfilerActivity\n",
    "import torchvision.transforms as transforms\n",
    "from torch.utils.data import DataLoader\n",
    "from torchvision.datasets import MNIST\n",
    "import matplotlib.pyplot as plt\n",
    "from torchinfo import summary\n",
    "import seaborn as sns\n",
    "import torch.nn as nn\n",
    "from tqdm import tqdm\n",
    "import numpy as np\n",
    "import random\n",
    "import wandb\n",
    "import torch\n",
    "import uuid\n",
    "\n",
    "# \n",
    "torch.manual_seed(43)\n",
    "np.random.seed(43)\n",
    "random.seed(43)\n",
    "\n",
    "wandb.login()"
   ]
  },
  {
   "cell_type": "markdown",
   "id": "5635065d",
   "metadata": {},
   "source": [
    "# Configs"
   ]
  },
  {
   "cell_type": "code",
   "execution_count": 2,
   "id": "7cff7c1f",
   "metadata": {},
   "outputs": [
    {
     "data": {
      "text/plain": [
       "'mps'"
      ]
     },
     "execution_count": 2,
     "metadata": {},
     "output_type": "execute_result"
    }
   ],
   "source": [
    "LEARNING_RATE = 1e-3\n",
    "BATCH_SIZE = 128\n",
    "NUM_CLASSES = 10\n",
    "EPOCHS = 150\n",
    "WEIGHT_DECAY = 1e-4\n",
    "MODEL_PATH = \"model.pth\"\n",
    "\n",
    "MEAN = 0.1307\n",
    "STD = 0.3080\n",
    "\n",
    "\n",
    "transform_func = transforms.Compose([\n",
    "  transforms.ToTensor(),\n",
    "  transforms.Normalize(mean=(0.1307,), std=(0.3080,)) # from prev comp mnist u=0.1307 std=0.3081\n",
    "])\n",
    "\n",
    "\n",
    "DEVICE = 'cpu'\n",
    "if torch.mps.is_available(): DEVICE = 'mps'\n",
    "if torch.cuda.is_available(): DEVICE = 'cuda'\n",
    "DEVICE"
   ]
  },
  {
   "cell_type": "code",
   "execution_count": null,
   "id": "c8aebc17",
   "metadata": {},
   "outputs": [],
   "source": [
    "wandb_run = wandb.init(\n",
    "  project=\"learn-wandb\",\n",
    "  config={\n",
    "    \"learning_rate\": LEARNING_RATE,\n",
    "    \"epochs\": EPOCHS,\n",
    "    \"dataset\": \"mnist\",\n",
    "    \"architecture\": \"conv + adaptive + linear layers\",\n",
    "    \"batch_size\": BATCH_SIZE,\n",
    "    \"weight_decay\": WEIGHT_DECAY\n",
    "  }\n",
    ")"
   ]
  },
  {
   "cell_type": "markdown",
   "id": "50214e09",
   "metadata": {},
   "source": [
    "# Data"
   ]
  },
  {
   "cell_type": "markdown",
   "id": "a136243b",
   "metadata": {},
   "source": [
    "## Train"
   ]
  },
  {
   "cell_type": "code",
   "execution_count": 4,
   "id": "7bf4d543",
   "metadata": {},
   "outputs": [
    {
     "name": "stdout",
     "output_type": "stream",
     "text": [
      "\n",
      "  data samples: 60000\n",
      "  number batch: 469\n",
      "\n"
     ]
    }
   ],
   "source": [
    "# train data\n",
    "train_data = MNIST(root='./data/', train=True, download=True, transform=transform_func)\n",
    "\n",
    "NUM_CLASSES= np.unique(train_data.targets).__len__()\n",
    "\n",
    "train_loader = DataLoader(train_data, batch_size=BATCH_SIZE, shuffle=True,)\n",
    "\n",
    "print(\n",
    "  f\"\"\"\n",
    "  data samples: {train_loader.dataset.__len__()}\n",
    "  number batch: {train_loader.__len__()}\n",
    "\"\"\"\n",
    ")\n"
   ]
  },
  {
   "cell_type": "code",
   "execution_count": 5,
   "id": "80557582",
   "metadata": {},
   "outputs": [
    {
     "name": "stdout",
     "output_type": "stream",
     "text": [
      "torch.Size([28, 28]) 0\n"
     ]
    },
    {
     "data": {
      "image/png": "[encoded data removed]",
      "text/plain": [
       "<Figure size 640x480 with 1 Axes>"
      ]
     },
     "metadata": {},
     "output_type": "display_data"
    }
   ],
   "source": [
    "idx = np.random.randint(0, train_loader.dataset.__len__() )\n",
    "img = train_data.data[idx]\n",
    "img_label = train_data.targets[idx].item()\n",
    "\n",
    "print(img.shape, img_label)\n",
    "\n",
    "img = img.unsqueeze(0)\n",
    "img = img.permute(1, 2, 0)\n",
    "img.shape\n",
    "\n",
    "plt.imshow(img)\n",
    "plt.title(f\"Sample image @ {idx} | Label: {img_label}\")\n",
    "plt.show()"
   ]
  },
  {
   "cell_type": "code",
   "execution_count": 6,
   "id": "2d358b72",
   "metadata": {},
   "outputs": [
    {
     "data": {
      "image/png": "[encoded data removed]",
      "text/plain": [
       "<Figure size 600x300 with 1 Axes>"
      ]
     },
     "metadata": {},
     "output_type": "display_data"
    }
   ],
   "source": [
    "train_labels = train_data.targets\n",
    "labels_counts = torch.bincount(train_labels)\n",
    "\n",
    "labels = [str(i) for i in range(10)]\n",
    "\n",
    "plt.figure(figsize=(6, 3))\n",
    "plt.bar(labels, labels_counts.numpy())\n",
    "plt.title(\"Data labels frequency\")\n",
    "plt.ylabel(\"Counts\")\n",
    "plt.xlabel(\"Digits\")\n",
    "plt.show()"
   ]
  },
  {
   "cell_type": "markdown",
   "id": "c898338c",
   "metadata": {},
   "source": [
    "## Test"
   ]
  },
  {
   "cell_type": "code",
   "execution_count": 7,
   "id": "bfc18b2b",
   "metadata": {},
   "outputs": [
    {
     "name": "stdout",
     "output_type": "stream",
     "text": [
      "\n",
      "  data samples: 10000\n",
      "  number batch: 79\n",
      "\n"
     ]
    }
   ],
   "source": [
    "# test data\n",
    "test_data = MNIST('./data', train=False, download=True, transform=transform_func)\n",
    "test_loader = DataLoader(test_data, batch_size=128)\n",
    "\n",
    "print(\n",
    "  f\"\"\"\n",
    "  data samples: {test_loader.dataset.__len__()}\n",
    "  number batch: {test_loader.__len__()}\n",
    "\"\"\"\n",
    ")"
   ]
  },
  {
   "cell_type": "markdown",
   "id": "1133fb90",
   "metadata": {},
   "source": [
    "# Model"
   ]
  },
  {
   "cell_type": "code",
   "execution_count": 8,
   "id": "bf6c7575",
   "metadata": {},
   "outputs": [
    {
     "name": "stdout",
     "output_type": "stream",
     "text": [
      "Number of params: 5450\n"
     ]
    }
   ],
   "source": [
    "class Model(nn.Module):\n",
    "  def __init__(self, num_classes, in_channels = 1 ):\n",
    "    super().__init__()\n",
    "    \n",
    "    self.kernel = 3\n",
    "    self.in_channels = in_channels\n",
    "    self.num_classes = num_classes\n",
    "\n",
    "    self.conv1 = nn.Sequential(\n",
    "      nn.Conv2d(self.in_channels, 64, kernel_size=self.kernel, padding= self.pad()),\n",
    "      # nn.BatchNorm2d(64),\n",
    "      nn.ReLU(),\n",
    "      nn.MaxPool2d(2, 2),\n",
    "    )\n",
    "\n",
    "    # self.max_pool = nn.AdaptiveMaxPool2d((1, 1)) # [B, prev_conv_out, 1, 1]\n",
    "    self.avg_pool = nn.AdaptiveAvgPool2d((1, 1)) # [B, prev_conv_out, 1, 1]\n",
    " \n",
    "    self.l1 = nn.Linear(64, 64)\n",
    "    self.dropout = nn.Dropout(.4)\n",
    "\n",
    "    self.out = nn.Linear(64, self.num_classes)\n",
    "\n",
    "  def pad(self):\n",
    "    return int( (self.kernel - 1) // 2)\n",
    "\n",
    "  def forward(self, x):\n",
    "    x = self.conv1( x )\n",
    "\n",
    "    x = self.avg_pool( x )\n",
    "\n",
    "    x = x.view( x.size(0), -1 )\n",
    "\n",
    "    x = self.dropout( self.l1( x ) )\n",
    "\n",
    "    return self.out(x)\n",
    "\n",
    "model = Model(num_classes=NUM_CLASSES)\n",
    "\n",
    "model.to(DEVICE)\n",
    "\n",
    "print(\"Number of params:\", sum([p.numel() for p in model.parameters()]))\n",
    "\n",
    "# model"
   ]
  },
  {
   "cell_type": "code",
   "execution_count": 9,
   "id": "dacf80e1",
   "metadata": {},
   "outputs": [
    {
     "data": {
      "text/plain": [
       "==========================================================================================\n",
       "Layer (type:depth-idx)                   Output Shape              Param #\n",
       "==========================================================================================\n",
       "Model                                    [1, 10]                   --\n",
       "├─Sequential: 1-1                        [1, 64, 14, 14]           --\n",
       "│    └─Conv2d: 2-1                       [1, 64, 28, 28]           640\n",
       "│    └─ReLU: 2-2                         [1, 64, 28, 28]           --\n",
       "│    └─MaxPool2d: 2-3                    [1, 64, 14, 14]           --\n",
       "├─AdaptiveAvgPool2d: 1-2                 [1, 64, 1, 1]             --\n",
       "├─Linear: 1-3                            [1, 64]                   4,160\n",
       "├─Dropout: 1-4                           [1, 64]                   --\n",
       "├─Linear: 1-5                            [1, 10]                   650\n",
       "==========================================================================================\n",
       "Total params: 5,450\n",
       "Trainable params: 5,450\n",
       "Non-trainable params: 0\n",
       "Total mult-adds (M): 0.51\n",
       "==========================================================================================\n",
       "Input size (MB): 0.00\n",
       "Forward/backward pass size (MB): 0.40\n",
       "Params size (MB): 0.02\n",
       "Estimated Total Size (MB): 0.43\n",
       "=========================================================================================="
      ]
     },
     "execution_count": 9,
     "metadata": {},
     "output_type": "execute_result"
    }
   ],
   "source": [
    "summary(model, (1, 1, 28, 28))"
   ]
  },
  {
   "cell_type": "markdown",
   "id": "9be873b5",
   "metadata": {},
   "source": [
    "# Loss - Optim"
   ]
  },
  {
   "cell_type": "code",
   "execution_count": 10,
   "id": "a79abb14",
   "metadata": {},
   "outputs": [],
   "source": [
    "optimizer = torch.optim.AdamW(\n",
    "  model.parameters(), \n",
    "  lr=LEARNING_RATE,\n",
    "  weight_decay=WEIGHT_DECAY\n",
    ")\n",
    "\n",
    "loss_func = nn.CrossEntropyLoss()\n",
    "\n",
    "# lr sheduler\n",
    "lr_scheduler = torch.optim.lr_scheduler.ReduceLROnPlateau(optimizer)"
   ]
  },
  {
   "cell_type": "markdown",
   "id": "9484e11c",
   "metadata": {},
   "source": [
    "# Train"
   ]
  },
  {
   "cell_type": "code",
   "execution_count": 11,
   "id": "202d261e",
   "metadata": {},
   "outputs": [
    {
     "data": {
      "text/plain": [
       "'mps'"
      ]
     },
     "execution_count": 11,
     "metadata": {},
     "output_type": "execute_result"
    }
   ],
   "source": [
    "DEVICE"
   ]
  },
  {
   "cell_type": "code",
   "execution_count": 12,
   "id": "34778a73",
   "metadata": {},
   "outputs": [
    {
     "name": "stderr",
     "output_type": "stream",
     "text": [
      "Train [1/150] ... : 100%|██████████| 469/469 [00:06<00:00, 69.58it/s]\n"
     ]
    },
    {
     "name": "stdout",
     "output_type": "stream",
     "text": [
      "Epoch: 1/150 | Loss: 1.8653 | Accuracy: 0.3091 \n",
      "\n"
     ]
    },
    {
     "name": "stderr",
     "output_type": "stream",
     "text": [
      "Train [2/150] ... : 100%|██████████| 469/469 [00:05<00:00, 81.64it/s]\n"
     ]
    },
    {
     "name": "stdout",
     "output_type": "stream",
     "text": [
      "Epoch: 2/150 | Loss: 1.4708 | Accuracy: 0.4429 \n",
      "\n"
     ]
    },
    {
     "name": "stderr",
     "output_type": "stream",
     "text": [
      "Train [3/150] ... : 100%|██████████| 469/469 [00:06<00:00, 72.62it/s]\n"
     ]
    },
    {
     "name": "stdout",
     "output_type": "stream",
     "text": [
      "Epoch: 3/150 | Loss: 1.4130 | Accuracy: 0.4700 \n",
      "\n"
     ]
    },
    {
     "name": "stderr",
     "output_type": "stream",
     "text": [
      "Train [4/150] ... : 100%|██████████| 469/469 [00:06<00:00, 75.46it/s]\n"
     ]
    },
    {
     "name": "stdout",
     "output_type": "stream",
     "text": [
      "Epoch: 4/150 | Loss: 1.3761 | Accuracy: 0.4855 \n",
      "\n"
     ]
    },
    {
     "name": "stderr",
     "output_type": "stream",
     "text": [
      "Train [5/150] ... : 100%|██████████| 469/469 [00:05<00:00, 79.90it/s]\n"
     ]
    },
    {
     "name": "stdout",
     "output_type": "stream",
     "text": [
      "Epoch: 5/150 | Loss: 1.3535 | Accuracy: 0.4956 \n",
      "\n"
     ]
    },
    {
     "name": "stderr",
     "output_type": "stream",
     "text": [
      "Train [6/150] ... : 100%|██████████| 469/469 [00:06<00:00, 71.92it/s]\n"
     ]
    },
    {
     "name": "stdout",
     "output_type": "stream",
     "text": [
      "Epoch: 6/150 | Loss: 1.3315 | Accuracy: 0.5036 \n",
      "\n"
     ]
    },
    {
     "name": "stderr",
     "output_type": "stream",
     "text": [
      "Train [7/150] ... : 100%|██████████| 469/469 [00:08<00:00, 55.54it/s]\n"
     ]
    },
    {
     "name": "stdout",
     "output_type": "stream",
     "text": [
      "Epoch: 7/150 | Loss: 1.3123 | Accuracy: 0.5107 \n",
      "\n"
     ]
    },
    {
     "name": "stderr",
     "output_type": "stream",
     "text": [
      "Train [8/150] ... : 100%|██████████| 469/469 [00:09<00:00, 47.01it/s]\n"
     ]
    },
    {
     "name": "stdout",
     "output_type": "stream",
     "text": [
      "Epoch: 8/150 | Loss: 1.2920 | Accuracy: 0.5184 \n",
      "\n"
     ]
    },
    {
     "name": "stderr",
     "output_type": "stream",
     "text": [
      "Train [9/150] ... : 100%|██████████| 469/469 [00:07<00:00, 66.47it/s]\n"
     ]
    },
    {
     "name": "stdout",
     "output_type": "stream",
     "text": [
      "Epoch: 9/150 | Loss: 1.2758 | Accuracy: 0.5256 \n",
      "\n"
     ]
    },
    {
     "name": "stderr",
     "output_type": "stream",
     "text": [
      "Train [10/150] ... : 100%|██████████| 469/469 [00:06<00:00, 77.72it/s]\n"
     ]
    },
    {
     "name": "stdout",
     "output_type": "stream",
     "text": [
      "Epoch: 10/150 | Loss: 1.2602 | Accuracy: 0.5320 \n",
      "\n"
     ]
    },
    {
     "name": "stderr",
     "output_type": "stream",
     "text": [
      "Train [11/150] ... : 100%|██████████| 469/469 [00:07<00:00, 62.05it/s]\n"
     ]
    },
    {
     "name": "stdout",
     "output_type": "stream",
     "text": [
      "Epoch: 11/150 | Loss: 1.2480 | Accuracy: 0.5402 \n",
      "\n"
     ]
    },
    {
     "name": "stderr",
     "output_type": "stream",
     "text": [
      "Train [12/150] ... : 100%|██████████| 469/469 [00:06<00:00, 77.28it/s]\n"
     ]
    },
    {
     "name": "stdout",
     "output_type": "stream",
     "text": [
      "Epoch: 12/150 | Loss: 1.2398 | Accuracy: 0.5424 \n",
      "\n"
     ]
    },
    {
     "name": "stderr",
     "output_type": "stream",
     "text": [
      "Train [13/150] ... : 100%|██████████| 469/469 [00:06<00:00, 77.20it/s]\n"
     ]
    },
    {
     "name": "stdout",
     "output_type": "stream",
     "text": [
      "Epoch: 13/150 | Loss: 1.2308 | Accuracy: 0.5479 \n",
      "\n"
     ]
    },
    {
     "name": "stderr",
     "output_type": "stream",
     "text": [
      "Train [14/150] ... : 100%|██████████| 469/469 [00:06<00:00, 77.59it/s]\n"
     ]
    },
    {
     "name": "stdout",
     "output_type": "stream",
     "text": [
      "Epoch: 14/150 | Loss: 1.2226 | Accuracy: 0.5488 \n",
      "\n"
     ]
    },
    {
     "name": "stderr",
     "output_type": "stream",
     "text": [
      "Train [15/150] ... : 100%|██████████| 469/469 [00:06<00:00, 74.23it/s]\n"
     ]
    },
    {
     "name": "stdout",
     "output_type": "stream",
     "text": [
      "Epoch: 15/150 | Loss: 1.2139 | Accuracy: 0.5546 \n",
      "\n"
     ]
    },
    {
     "name": "stderr",
     "output_type": "stream",
     "text": [
      "Train [16/150] ... : 100%|██████████| 469/469 [00:06<00:00, 76.78it/s]\n"
     ]
    },
    {
     "name": "stdout",
     "output_type": "stream",
     "text": [
      "Epoch: 16/150 | Loss: 1.2042 | Accuracy: 0.5592 \n",
      "\n"
     ]
    },
    {
     "name": "stderr",
     "output_type": "stream",
     "text": [
      "Train [17/150] ... : 100%|██████████| 469/469 [00:05<00:00, 80.86it/s]\n"
     ]
    },
    {
     "name": "stdout",
     "output_type": "stream",
     "text": [
      "Epoch: 17/150 | Loss: 1.1993 | Accuracy: 0.5599 \n",
      "\n"
     ]
    },
    {
     "name": "stderr",
     "output_type": "stream",
     "text": [
      "Train [18/150] ... : 100%|██████████| 469/469 [00:05<00:00, 82.80it/s]\n"
     ]
    },
    {
     "name": "stdout",
     "output_type": "stream",
     "text": [
      "Epoch: 18/150 | Loss: 1.1913 | Accuracy: 0.5625 \n",
      "\n"
     ]
    },
    {
     "name": "stderr",
     "output_type": "stream",
     "text": [
      "Train [19/150] ... : 100%|██████████| 469/469 [00:06<00:00, 68.62it/s]\n"
     ]
    },
    {
     "name": "stdout",
     "output_type": "stream",
     "text": [
      "Epoch: 19/150 | Loss: 1.1806 | Accuracy: 0.5666 \n",
      "\n"
     ]
    },
    {
     "name": "stderr",
     "output_type": "stream",
     "text": [
      "Train [20/150] ... : 100%|██████████| 469/469 [00:06<00:00, 74.70it/s]\n"
     ]
    },
    {
     "name": "stdout",
     "output_type": "stream",
     "text": [
      "Epoch: 20/150 | Loss: 1.1760 | Accuracy: 0.5690 \n",
      "\n"
     ]
    },
    {
     "name": "stderr",
     "output_type": "stream",
     "text": [
      "Train [21/150] ... : 100%|██████████| 469/469 [00:06<00:00, 74.27it/s]\n"
     ]
    },
    {
     "name": "stdout",
     "output_type": "stream",
     "text": [
      "Epoch: 21/150 | Loss: 1.1688 | Accuracy: 0.5731 \n",
      "\n"
     ]
    },
    {
     "name": "stderr",
     "output_type": "stream",
     "text": [
      "Train [22/150] ... : 100%|██████████| 469/469 [00:06<00:00, 69.91it/s]\n"
     ]
    },
    {
     "name": "stdout",
     "output_type": "stream",
     "text": [
      "Epoch: 22/150 | Loss: 1.1615 | Accuracy: 0.5757 \n",
      "\n"
     ]
    },
    {
     "name": "stderr",
     "output_type": "stream",
     "text": [
      "Train [23/150] ... : 100%|██████████| 469/469 [00:06<00:00, 67.03it/s]\n"
     ]
    },
    {
     "name": "stdout",
     "output_type": "stream",
     "text": [
      "Epoch: 23/150 | Loss: 1.1561 | Accuracy: 0.5792 \n",
      "\n"
     ]
    },
    {
     "name": "stderr",
     "output_type": "stream",
     "text": [
      "Train [24/150] ... : 100%|██████████| 469/469 [00:06<00:00, 73.71it/s]\n"
     ]
    },
    {
     "name": "stdout",
     "output_type": "stream",
     "text": [
      "Epoch: 24/150 | Loss: 1.1477 | Accuracy: 0.5834 \n",
      "\n"
     ]
    },
    {
     "name": "stderr",
     "output_type": "stream",
     "text": [
      "Train [25/150] ... : 100%|██████████| 469/469 [00:06<00:00, 70.30it/s]\n"
     ]
    },
    {
     "name": "stdout",
     "output_type": "stream",
     "text": [
      "Epoch: 25/150 | Loss: 1.1380 | Accuracy: 0.5856 \n",
      "\n"
     ]
    },
    {
     "name": "stderr",
     "output_type": "stream",
     "text": [
      "Train [26/150] ... : 100%|██████████| 469/469 [00:06<00:00, 77.39it/s]\n"
     ]
    },
    {
     "name": "stdout",
     "output_type": "stream",
     "text": [
      "Epoch: 26/150 | Loss: 1.1299 | Accuracy: 0.5903 \n",
      "\n"
     ]
    },
    {
     "name": "stderr",
     "output_type": "stream",
     "text": [
      "Train [27/150] ... : 100%|██████████| 469/469 [00:06<00:00, 67.92it/s]\n"
     ]
    },
    {
     "name": "stdout",
     "output_type": "stream",
     "text": [
      "Epoch: 27/150 | Loss: 1.1227 | Accuracy: 0.5949 \n",
      "\n"
     ]
    },
    {
     "name": "stderr",
     "output_type": "stream",
     "text": [
      "Train [28/150] ... : 100%|██████████| 469/469 [00:06<00:00, 67.77it/s]\n"
     ]
    },
    {
     "name": "stdout",
     "output_type": "stream",
     "text": [
      "Epoch: 28/150 | Loss: 1.1112 | Accuracy: 0.5998 \n",
      "\n"
     ]
    },
    {
     "name": "stderr",
     "output_type": "stream",
     "text": [
      "Train [29/150] ... : 100%|██████████| 469/469 [00:06<00:00, 69.72it/s]\n"
     ]
    },
    {
     "name": "stdout",
     "output_type": "stream",
     "text": [
      "Epoch: 29/150 | Loss: 1.0992 | Accuracy: 0.6069 \n",
      "\n"
     ]
    },
    {
     "name": "stderr",
     "output_type": "stream",
     "text": [
      "Train [30/150] ... : 100%|██████████| 469/469 [00:06<00:00, 75.20it/s]\n"
     ]
    },
    {
     "name": "stdout",
     "output_type": "stream",
     "text": [
      "Epoch: 30/150 | Loss: 1.0907 | Accuracy: 0.6125 \n",
      "\n"
     ]
    },
    {
     "name": "stderr",
     "output_type": "stream",
     "text": [
      "Train [31/150] ... : 100%|██████████| 469/469 [00:07<00:00, 64.26it/s]\n"
     ]
    },
    {
     "name": "stdout",
     "output_type": "stream",
     "text": [
      "Epoch: 31/150 | Loss: 1.0784 | Accuracy: 0.6185 \n",
      "\n"
     ]
    },
    {
     "name": "stderr",
     "output_type": "stream",
     "text": [
      "Train [32/150] ... : 100%|██████████| 469/469 [00:06<00:00, 67.90it/s]\n"
     ]
    },
    {
     "name": "stdout",
     "output_type": "stream",
     "text": [
      "Epoch: 32/150 | Loss: 1.0659 | Accuracy: 0.6265 \n",
      "\n"
     ]
    },
    {
     "name": "stderr",
     "output_type": "stream",
     "text": [
      "Train [33/150] ... : 100%|██████████| 469/469 [00:07<00:00, 64.65it/s]\n"
     ]
    },
    {
     "name": "stdout",
     "output_type": "stream",
     "text": [
      "Epoch: 33/150 | Loss: 1.0532 | Accuracy: 0.6341 \n",
      "\n"
     ]
    },
    {
     "name": "stderr",
     "output_type": "stream",
     "text": [
      "Train [34/150] ... : 100%|██████████| 469/469 [00:05<00:00, 78.45it/s]\n"
     ]
    },
    {
     "name": "stdout",
     "output_type": "stream",
     "text": [
      "Epoch: 34/150 | Loss: 1.0428 | Accuracy: 0.6395 \n",
      "\n"
     ]
    },
    {
     "name": "stderr",
     "output_type": "stream",
     "text": [
      "Train [35/150] ... : 100%|██████████| 469/469 [00:05<00:00, 79.27it/s]\n"
     ]
    },
    {
     "name": "stdout",
     "output_type": "stream",
     "text": [
      "Epoch: 35/150 | Loss: 1.0210 | Accuracy: 0.6500 \n",
      "\n"
     ]
    },
    {
     "name": "stderr",
     "output_type": "stream",
     "text": [
      "Train [36/150] ... : 100%|██████████| 469/469 [00:06<00:00, 73.92it/s]\n"
     ]
    },
    {
     "name": "stdout",
     "output_type": "stream",
     "text": [
      "Epoch: 36/150 | Loss: 1.0098 | Accuracy: 0.6571 \n",
      "\n"
     ]
    },
    {
     "name": "stderr",
     "output_type": "stream",
     "text": [
      "Train [37/150] ... : 100%|██████████| 469/469 [00:06<00:00, 77.65it/s]\n"
     ]
    },
    {
     "name": "stdout",
     "output_type": "stream",
     "text": [
      "Epoch: 37/150 | Loss: 0.9881 | Accuracy: 0.6675 \n",
      "\n"
     ]
    },
    {
     "name": "stderr",
     "output_type": "stream",
     "text": [
      "Train [38/150] ... : 100%|██████████| 469/469 [00:05<00:00, 81.34it/s]\n"
     ]
    },
    {
     "name": "stdout",
     "output_type": "stream",
     "text": [
      "Epoch: 38/150 | Loss: 0.9775 | Accuracy: 0.6741 \n",
      "\n"
     ]
    },
    {
     "name": "stderr",
     "output_type": "stream",
     "text": [
      "Train [39/150] ... : 100%|██████████| 469/469 [00:06<00:00, 74.34it/s]\n"
     ]
    },
    {
     "name": "stdout",
     "output_type": "stream",
     "text": [
      "Epoch: 39/150 | Loss: 0.9617 | Accuracy: 0.6796 \n",
      "\n"
     ]
    },
    {
     "name": "stderr",
     "output_type": "stream",
     "text": [
      "Train [40/150] ... : 100%|██████████| 469/469 [00:06<00:00, 75.23it/s]\n"
     ]
    },
    {
     "name": "stdout",
     "output_type": "stream",
     "text": [
      "Epoch: 40/150 | Loss: 0.9487 | Accuracy: 0.6833 \n",
      "\n"
     ]
    },
    {
     "name": "stderr",
     "output_type": "stream",
     "text": [
      "Train [41/150] ... : 100%|██████████| 469/469 [00:07<00:00, 66.22it/s]\n"
     ]
    },
    {
     "name": "stdout",
     "output_type": "stream",
     "text": [
      "Epoch: 41/150 | Loss: 0.9362 | Accuracy: 0.6898 \n",
      "\n"
     ]
    },
    {
     "name": "stderr",
     "output_type": "stream",
     "text": [
      "Train [42/150] ... : 100%|██████████| 469/469 [00:06<00:00, 77.22it/s]\n"
     ]
    },
    {
     "name": "stdout",
     "output_type": "stream",
     "text": [
      "Epoch: 42/150 | Loss: 0.9294 | Accuracy: 0.6927 \n",
      "\n"
     ]
    },
    {
     "name": "stderr",
     "output_type": "stream",
     "text": [
      "Train [43/150] ... : 100%|██████████| 469/469 [00:05<00:00, 84.13it/s]\n"
     ]
    },
    {
     "name": "stdout",
     "output_type": "stream",
     "text": [
      "Epoch: 43/150 | Loss: 0.9189 | Accuracy: 0.6948 \n",
      "\n"
     ]
    },
    {
     "name": "stderr",
     "output_type": "stream",
     "text": [
      "Train [44/150] ... : 100%|██████████| 469/469 [00:06<00:00, 77.54it/s]\n"
     ]
    },
    {
     "name": "stdout",
     "output_type": "stream",
     "text": [
      "Epoch: 44/150 | Loss: 0.9051 | Accuracy: 0.7002 \n",
      "\n"
     ]
    },
    {
     "name": "stderr",
     "output_type": "stream",
     "text": [
      "Train [45/150] ... : 100%|██████████| 469/469 [00:05<00:00, 85.91it/s]\n"
     ]
    },
    {
     "name": "stdout",
     "output_type": "stream",
     "text": [
      "Epoch: 45/150 | Loss: 0.8974 | Accuracy: 0.7041 \n",
      "\n"
     ]
    },
    {
     "name": "stderr",
     "output_type": "stream",
     "text": [
      "Train [46/150] ... : 100%|██████████| 469/469 [00:05<00:00, 82.89it/s]\n"
     ]
    },
    {
     "name": "stdout",
     "output_type": "stream",
     "text": [
      "Epoch: 46/150 | Loss: 0.8898 | Accuracy: 0.7056 \n",
      "\n"
     ]
    },
    {
     "name": "stderr",
     "output_type": "stream",
     "text": [
      "Train [47/150] ... : 100%|██████████| 469/469 [00:05<00:00, 81.80it/s]\n"
     ]
    },
    {
     "name": "stdout",
     "output_type": "stream",
     "text": [
      "Epoch: 47/150 | Loss: 0.8832 | Accuracy: 0.7079 \n",
      "\n"
     ]
    },
    {
     "name": "stderr",
     "output_type": "stream",
     "text": [
      "Train [48/150] ... : 100%|██████████| 469/469 [00:06<00:00, 74.96it/s]\n"
     ]
    },
    {
     "name": "stdout",
     "output_type": "stream",
     "text": [
      "Epoch: 48/150 | Loss: 0.8756 | Accuracy: 0.7120 \n",
      "\n"
     ]
    },
    {
     "name": "stderr",
     "output_type": "stream",
     "text": [
      "Train [49/150] ... : 100%|██████████| 469/469 [00:05<00:00, 81.19it/s]\n"
     ]
    },
    {
     "name": "stdout",
     "output_type": "stream",
     "text": [
      "Epoch: 49/150 | Loss: 0.8691 | Accuracy: 0.7160 \n",
      "\n"
     ]
    },
    {
     "name": "stderr",
     "output_type": "stream",
     "text": [
      "Train [50/150] ... : 100%|██████████| 469/469 [00:05<00:00, 84.13it/s]\n"
     ]
    },
    {
     "name": "stdout",
     "output_type": "stream",
     "text": [
      "Epoch: 50/150 | Loss: 0.8603 | Accuracy: 0.7190 \n",
      "\n"
     ]
    },
    {
     "name": "stderr",
     "output_type": "stream",
     "text": [
      "Train [51/150] ... : 100%|██████████| 469/469 [00:05<00:00, 80.02it/s]\n"
     ]
    },
    {
     "name": "stdout",
     "output_type": "stream",
     "text": [
      "Epoch: 51/150 | Loss: 0.8532 | Accuracy: 0.7193 \n",
      "\n"
     ]
    },
    {
     "name": "stderr",
     "output_type": "stream",
     "text": [
      "Train [52/150] ... : 100%|██████████| 469/469 [00:05<00:00, 82.71it/s]\n"
     ]
    },
    {
     "name": "stdout",
     "output_type": "stream",
     "text": [
      "Epoch: 52/150 | Loss: 0.8473 | Accuracy: 0.7240 \n",
      "\n"
     ]
    },
    {
     "name": "stderr",
     "output_type": "stream",
     "text": [
      "Train [53/150] ... : 100%|██████████| 469/469 [00:07<00:00, 60.80it/s]\n"
     ]
    },
    {
     "name": "stdout",
     "output_type": "stream",
     "text": [
      "Epoch: 53/150 | Loss: 0.8388 | Accuracy: 0.7266 \n",
      "\n"
     ]
    },
    {
     "name": "stderr",
     "output_type": "stream",
     "text": [
      "Train [54/150] ... : 100%|██████████| 469/469 [00:07<00:00, 60.44it/s]\n"
     ]
    },
    {
     "name": "stdout",
     "output_type": "stream",
     "text": [
      "Epoch: 54/150 | Loss: 0.8377 | Accuracy: 0.7254 \n",
      "\n"
     ]
    },
    {
     "name": "stderr",
     "output_type": "stream",
     "text": [
      "Train [55/150] ... : 100%|██████████| 469/469 [00:07<00:00, 63.31it/s]\n"
     ]
    },
    {
     "name": "stdout",
     "output_type": "stream",
     "text": [
      "Epoch: 55/150 | Loss: 0.8285 | Accuracy: 0.7303 \n",
      "\n"
     ]
    },
    {
     "name": "stderr",
     "output_type": "stream",
     "text": [
      "Train [56/150] ... : 100%|██████████| 469/469 [00:07<00:00, 59.64it/s]\n"
     ]
    },
    {
     "name": "stdout",
     "output_type": "stream",
     "text": [
      "Epoch: 56/150 | Loss: 0.8259 | Accuracy: 0.7312 \n",
      "\n"
     ]
    },
    {
     "name": "stderr",
     "output_type": "stream",
     "text": [
      "Train [57/150] ... : 100%|██████████| 469/469 [00:07<00:00, 64.46it/s]\n"
     ]
    },
    {
     "name": "stdout",
     "output_type": "stream",
     "text": [
      "Epoch: 57/150 | Loss: 0.8146 | Accuracy: 0.7350 \n",
      "\n"
     ]
    },
    {
     "name": "stderr",
     "output_type": "stream",
     "text": [
      "Train [58/150] ... : 100%|██████████| 469/469 [00:07<00:00, 60.03it/s]\n"
     ]
    },
    {
     "name": "stdout",
     "output_type": "stream",
     "text": [
      "Epoch: 58/150 | Loss: 0.8105 | Accuracy: 0.7366 \n",
      "\n"
     ]
    },
    {
     "name": "stderr",
     "output_type": "stream",
     "text": [
      "Train [59/150] ... : 100%|██████████| 469/469 [00:07<00:00, 63.10it/s]\n"
     ]
    },
    {
     "name": "stdout",
     "output_type": "stream",
     "text": [
      "Epoch: 59/150 | Loss: 0.8119 | Accuracy: 0.7369 \n",
      "\n"
     ]
    },
    {
     "name": "stderr",
     "output_type": "stream",
     "text": [
      "Train [60/150] ... : 100%|██████████| 469/469 [00:07<00:00, 66.69it/s]\n"
     ]
    },
    {
     "name": "stdout",
     "output_type": "stream",
     "text": [
      "Epoch: 60/150 | Loss: 0.8098 | Accuracy: 0.7370 \n",
      "\n"
     ]
    },
    {
     "name": "stderr",
     "output_type": "stream",
     "text": [
      "Train [61/150] ... : 100%|██████████| 469/469 [00:07<00:00, 62.17it/s]\n"
     ]
    },
    {
     "name": "stdout",
     "output_type": "stream",
     "text": [
      "Epoch: 61/150 | Loss: 0.7931 | Accuracy: 0.7450 \n",
      "\n"
     ]
    },
    {
     "name": "stderr",
     "output_type": "stream",
     "text": [
      "Train [62/150] ... : 100%|██████████| 469/469 [00:07<00:00, 65.24it/s]\n"
     ]
    },
    {
     "name": "stdout",
     "output_type": "stream",
     "text": [
      "Epoch: 62/150 | Loss: 0.7895 | Accuracy: 0.7444 \n",
      "\n"
     ]
    },
    {
     "name": "stderr",
     "output_type": "stream",
     "text": [
      "Train [63/150] ... : 100%|██████████| 469/469 [00:06<00:00, 70.31it/s]\n"
     ]
    },
    {
     "name": "stdout",
     "output_type": "stream",
     "text": [
      "Epoch: 63/150 | Loss: 0.7873 | Accuracy: 0.7457 \n",
      "\n"
     ]
    },
    {
     "name": "stderr",
     "output_type": "stream",
     "text": [
      "Train [64/150] ... : 100%|██████████| 469/469 [00:06<00:00, 70.00it/s]\n"
     ]
    },
    {
     "name": "stdout",
     "output_type": "stream",
     "text": [
      "Epoch: 64/150 | Loss: 0.7818 | Accuracy: 0.7473 \n",
      "\n"
     ]
    },
    {
     "name": "stderr",
     "output_type": "stream",
     "text": [
      "Train [65/150] ... : 100%|██████████| 469/469 [00:06<00:00, 67.98it/s]\n"
     ]
    },
    {
     "name": "stdout",
     "output_type": "stream",
     "text": [
      "Epoch: 65/150 | Loss: 0.7827 | Accuracy: 0.7474 \n",
      "\n"
     ]
    },
    {
     "name": "stderr",
     "output_type": "stream",
     "text": [
      "Train [66/150] ... : 100%|██████████| 469/469 [00:06<00:00, 71.24it/s]\n"
     ]
    },
    {
     "name": "stdout",
     "output_type": "stream",
     "text": [
      "Epoch: 66/150 | Loss: 0.7719 | Accuracy: 0.7524 \n",
      "\n"
     ]
    },
    {
     "name": "stderr",
     "output_type": "stream",
     "text": [
      "Train [67/150] ... : 100%|██████████| 469/469 [00:06<00:00, 69.10it/s]\n"
     ]
    },
    {
     "name": "stdout",
     "output_type": "stream",
     "text": [
      "Epoch: 67/150 | Loss: 0.7764 | Accuracy: 0.7481 \n",
      "\n"
     ]
    },
    {
     "name": "stderr",
     "output_type": "stream",
     "text": [
      "Train [68/150] ... : 100%|██████████| 469/469 [00:06<00:00, 68.02it/s]\n"
     ]
    },
    {
     "name": "stdout",
     "output_type": "stream",
     "text": [
      "Epoch: 68/150 | Loss: 0.7624 | Accuracy: 0.7551 \n",
      "\n"
     ]
    },
    {
     "name": "stderr",
     "output_type": "stream",
     "text": [
      "Train [69/150] ... : 100%|██████████| 469/469 [00:06<00:00, 71.37it/s]\n"
     ]
    },
    {
     "name": "stdout",
     "output_type": "stream",
     "text": [
      "Epoch: 69/150 | Loss: 0.7677 | Accuracy: 0.7515 \n",
      "\n"
     ]
    },
    {
     "name": "stderr",
     "output_type": "stream",
     "text": [
      "Train [70/150] ... : 100%|██████████| 469/469 [00:07<00:00, 63.14it/s]\n"
     ]
    },
    {
     "name": "stdout",
     "output_type": "stream",
     "text": [
      "Epoch: 70/150 | Loss: 0.7603 | Accuracy: 0.7533 \n",
      "\n"
     ]
    },
    {
     "name": "stderr",
     "output_type": "stream",
     "text": [
      "Train [71/150] ... : 100%|██████████| 469/469 [00:07<00:00, 66.33it/s]\n"
     ]
    },
    {
     "name": "stdout",
     "output_type": "stream",
     "text": [
      "Epoch: 71/150 | Loss: 0.7558 | Accuracy: 0.7559 \n",
      "\n"
     ]
    },
    {
     "name": "stderr",
     "output_type": "stream",
     "text": [
      "Train [72/150] ... : 100%|██████████| 469/469 [00:06<00:00, 71.88it/s]\n"
     ]
    },
    {
     "name": "stdout",
     "output_type": "stream",
     "text": [
      "Epoch: 72/150 | Loss: 0.7532 | Accuracy: 0.7563 \n",
      "\n"
     ]
    },
    {
     "name": "stderr",
     "output_type": "stream",
     "text": [
      "Train [73/150] ... : 100%|██████████| 469/469 [00:06<00:00, 72.43it/s]\n"
     ]
    },
    {
     "name": "stdout",
     "output_type": "stream",
     "text": [
      "Epoch: 73/150 | Loss: 0.7460 | Accuracy: 0.7586 \n",
      "\n"
     ]
    },
    {
     "name": "stderr",
     "output_type": "stream",
     "text": [
      "Train [74/150] ... : 100%|██████████| 469/469 [00:06<00:00, 72.80it/s]\n"
     ]
    },
    {
     "name": "stdout",
     "output_type": "stream",
     "text": [
      "Epoch: 74/150 | Loss: 0.7424 | Accuracy: 0.7614 \n",
      "\n"
     ]
    },
    {
     "name": "stderr",
     "output_type": "stream",
     "text": [
      "Train [75/150] ... : 100%|██████████| 469/469 [00:06<00:00, 75.05it/s]\n"
     ]
    },
    {
     "name": "stdout",
     "output_type": "stream",
     "text": [
      "Epoch: 75/150 | Loss: 0.7450 | Accuracy: 0.7573 \n",
      "\n"
     ]
    },
    {
     "name": "stderr",
     "output_type": "stream",
     "text": [
      "Train [76/150] ... : 100%|██████████| 469/469 [00:06<00:00, 73.02it/s]\n"
     ]
    },
    {
     "name": "stdout",
     "output_type": "stream",
     "text": [
      "Epoch: 76/150 | Loss: 0.7383 | Accuracy: 0.7614 \n",
      "\n"
     ]
    },
    {
     "name": "stderr",
     "output_type": "stream",
     "text": [
      "Train [77/150] ... : 100%|██████████| 469/469 [00:06<00:00, 72.68it/s]\n"
     ]
    },
    {
     "name": "stdout",
     "output_type": "stream",
     "text": [
      "Epoch: 77/150 | Loss: 0.7305 | Accuracy: 0.7642 \n",
      "\n"
     ]
    },
    {
     "name": "stderr",
     "output_type": "stream",
     "text": [
      "Train [78/150] ... : 100%|██████████| 469/469 [00:06<00:00, 74.32it/s]\n"
     ]
    },
    {
     "name": "stdout",
     "output_type": "stream",
     "text": [
      "Epoch: 78/150 | Loss: 0.7300 | Accuracy: 0.7653 \n",
      "\n"
     ]
    },
    {
     "name": "stderr",
     "output_type": "stream",
     "text": [
      "Train [79/150] ... : 100%|██████████| 469/469 [00:06<00:00, 71.99it/s]\n"
     ]
    },
    {
     "name": "stdout",
     "output_type": "stream",
     "text": [
      "Epoch: 79/150 | Loss: 0.7312 | Accuracy: 0.7645 \n",
      "\n"
     ]
    },
    {
     "name": "stderr",
     "output_type": "stream",
     "text": [
      "Train [80/150] ... : 100%|██████████| 469/469 [00:06<00:00, 74.23it/s]\n"
     ]
    },
    {
     "name": "stdout",
     "output_type": "stream",
     "text": [
      "Epoch: 80/150 | Loss: 0.7263 | Accuracy: 0.7661 \n",
      "\n"
     ]
    },
    {
     "name": "stderr",
     "output_type": "stream",
     "text": [
      "Train [81/150] ... : 100%|██████████| 469/469 [00:06<00:00, 72.36it/s]\n"
     ]
    },
    {
     "name": "stdout",
     "output_type": "stream",
     "text": [
      "Epoch: 81/150 | Loss: 0.7179 | Accuracy: 0.7697 \n",
      "\n"
     ]
    },
    {
     "name": "stderr",
     "output_type": "stream",
     "text": [
      "Train [82/150] ... : 100%|██████████| 469/469 [00:06<00:00, 72.88it/s]\n"
     ]
    },
    {
     "name": "stdout",
     "output_type": "stream",
     "text": [
      "Epoch: 82/150 | Loss: 0.7182 | Accuracy: 0.7704 \n",
      "\n"
     ]
    },
    {
     "name": "stderr",
     "output_type": "stream",
     "text": [
      "Train [83/150] ... : 100%|██████████| 469/469 [00:06<00:00, 74.14it/s]\n"
     ]
    },
    {
     "name": "stdout",
     "output_type": "stream",
     "text": [
      "Epoch: 83/150 | Loss: 0.7148 | Accuracy: 0.7699 \n",
      "\n"
     ]
    },
    {
     "name": "stderr",
     "output_type": "stream",
     "text": [
      "Train [84/150] ... : 100%|██████████| 469/469 [00:06<00:00, 73.09it/s]\n"
     ]
    },
    {
     "name": "stdout",
     "output_type": "stream",
     "text": [
      "Epoch: 84/150 | Loss: 0.7098 | Accuracy: 0.7721 \n",
      "\n"
     ]
    },
    {
     "name": "stderr",
     "output_type": "stream",
     "text": [
      "Train [85/150] ... : 100%|██████████| 469/469 [00:06<00:00, 69.88it/s]\n"
     ]
    },
    {
     "name": "stdout",
     "output_type": "stream",
     "text": [
      "Epoch: 85/150 | Loss: 0.7079 | Accuracy: 0.7724 \n",
      "\n"
     ]
    },
    {
     "name": "stderr",
     "output_type": "stream",
     "text": [
      "Train [86/150] ... : 100%|██████████| 469/469 [00:06<00:00, 72.35it/s]\n"
     ]
    },
    {
     "name": "stdout",
     "output_type": "stream",
     "text": [
      "Epoch: 86/150 | Loss: 0.7025 | Accuracy: 0.7735 \n",
      "\n"
     ]
    },
    {
     "name": "stderr",
     "output_type": "stream",
     "text": [
      "Train [87/150] ... : 100%|██████████| 469/469 [00:06<00:00, 70.75it/s]\n"
     ]
    },
    {
     "name": "stdout",
     "output_type": "stream",
     "text": [
      "Epoch: 87/150 | Loss: 0.7025 | Accuracy: 0.7736 \n",
      "\n"
     ]
    },
    {
     "name": "stderr",
     "output_type": "stream",
     "text": [
      "Train [88/150] ... : 100%|██████████| 469/469 [00:06<00:00, 72.97it/s]\n"
     ]
    },
    {
     "name": "stdout",
     "output_type": "stream",
     "text": [
      "Epoch: 88/150 | Loss: 0.7055 | Accuracy: 0.7735 \n",
      "\n"
     ]
    },
    {
     "name": "stderr",
     "output_type": "stream",
     "text": [
      "Train [89/150] ... : 100%|██████████| 469/469 [00:06<00:00, 71.14it/s]\n"
     ]
    },
    {
     "name": "stdout",
     "output_type": "stream",
     "text": [
      "Epoch: 89/150 | Loss: 0.6994 | Accuracy: 0.7739 \n",
      "\n"
     ]
    },
    {
     "name": "stderr",
     "output_type": "stream",
     "text": [
      "Train [90/150] ... : 100%|██████████| 469/469 [00:06<00:00, 72.24it/s]\n"
     ]
    },
    {
     "name": "stdout",
     "output_type": "stream",
     "text": [
      "Epoch: 90/150 | Loss: 0.6958 | Accuracy: 0.7762 \n",
      "\n"
     ]
    },
    {
     "name": "stderr",
     "output_type": "stream",
     "text": [
      "Train [91/150] ... : 100%|██████████| 469/469 [00:06<00:00, 74.58it/s]\n"
     ]
    },
    {
     "name": "stdout",
     "output_type": "stream",
     "text": [
      "Epoch: 91/150 | Loss: 0.6946 | Accuracy: 0.7751 \n",
      "\n"
     ]
    },
    {
     "name": "stderr",
     "output_type": "stream",
     "text": [
      "Train [92/150] ... : 100%|██████████| 469/469 [00:06<00:00, 72.68it/s]\n"
     ]
    },
    {
     "name": "stdout",
     "output_type": "stream",
     "text": [
      "Epoch: 92/150 | Loss: 0.6805 | Accuracy: 0.7810 \n",
      "\n"
     ]
    },
    {
     "name": "stderr",
     "output_type": "stream",
     "text": [
      "Train [93/150] ... : 100%|██████████| 469/469 [00:06<00:00, 70.03it/s]\n"
     ]
    },
    {
     "name": "stdout",
     "output_type": "stream",
     "text": [
      "Epoch: 93/150 | Loss: 0.6848 | Accuracy: 0.7796 \n",
      "\n"
     ]
    },
    {
     "name": "stderr",
     "output_type": "stream",
     "text": [
      "Train [94/150] ... : 100%|██████████| 469/469 [00:06<00:00, 71.71it/s]\n"
     ]
    },
    {
     "name": "stdout",
     "output_type": "stream",
     "text": [
      "Epoch: 94/150 | Loss: 0.6853 | Accuracy: 0.7803 \n",
      "\n"
     ]
    },
    {
     "name": "stderr",
     "output_type": "stream",
     "text": [
      "Train [95/150] ... : 100%|██████████| 469/469 [00:06<00:00, 71.79it/s]\n"
     ]
    },
    {
     "name": "stdout",
     "output_type": "stream",
     "text": [
      "Epoch: 95/150 | Loss: 0.6795 | Accuracy: 0.7822 \n",
      "\n"
     ]
    },
    {
     "name": "stderr",
     "output_type": "stream",
     "text": [
      "Train [96/150] ... : 100%|██████████| 469/469 [00:06<00:00, 72.37it/s]\n"
     ]
    },
    {
     "name": "stdout",
     "output_type": "stream",
     "text": [
      "Epoch: 96/150 | Loss: 0.6822 | Accuracy: 0.7797 \n",
      "\n"
     ]
    },
    {
     "name": "stderr",
     "output_type": "stream",
     "text": [
      "Train [97/150] ... : 100%|██████████| 469/469 [00:06<00:00, 71.65it/s]\n"
     ]
    },
    {
     "name": "stdout",
     "output_type": "stream",
     "text": [
      "Epoch: 97/150 | Loss: 0.6796 | Accuracy: 0.7810 \n",
      "\n"
     ]
    },
    {
     "name": "stderr",
     "output_type": "stream",
     "text": [
      "Train [98/150] ... : 100%|██████████| 469/469 [00:06<00:00, 72.03it/s]\n"
     ]
    },
    {
     "name": "stdout",
     "output_type": "stream",
     "text": [
      "Epoch: 98/150 | Loss: 0.6707 | Accuracy: 0.7848 \n",
      "\n"
     ]
    },
    {
     "name": "stderr",
     "output_type": "stream",
     "text": [
      "Train [99/150] ... : 100%|██████████| 469/469 [00:06<00:00, 73.04it/s]\n"
     ]
    },
    {
     "name": "stdout",
     "output_type": "stream",
     "text": [
      "Epoch: 99/150 | Loss: 0.6731 | Accuracy: 0.7833 \n",
      "\n"
     ]
    },
    {
     "name": "stderr",
     "output_type": "stream",
     "text": [
      "Train [100/150] ... : 100%|██████████| 469/469 [00:06<00:00, 70.50it/s]\n"
     ]
    },
    {
     "name": "stdout",
     "output_type": "stream",
     "text": [
      "Epoch: 100/150 | Loss: 0.6727 | Accuracy: 0.7829 \n",
      "\n"
     ]
    },
    {
     "name": "stderr",
     "output_type": "stream",
     "text": [
      "Train [101/150] ... : 100%|██████████| 469/469 [00:06<00:00, 71.55it/s]\n"
     ]
    },
    {
     "name": "stdout",
     "output_type": "stream",
     "text": [
      "Epoch: 101/150 | Loss: 0.6684 | Accuracy: 0.7849 \n",
      "\n"
     ]
    },
    {
     "name": "stderr",
     "output_type": "stream",
     "text": [
      "Train [102/150] ... : 100%|██████████| 469/469 [00:06<00:00, 71.78it/s]\n"
     ]
    },
    {
     "name": "stdout",
     "output_type": "stream",
     "text": [
      "Epoch: 102/150 | Loss: 0.6690 | Accuracy: 0.7847 \n",
      "\n"
     ]
    },
    {
     "name": "stderr",
     "output_type": "stream",
     "text": [
      "Train [103/150] ... : 100%|██████████| 469/469 [00:06<00:00, 72.03it/s]\n"
     ]
    },
    {
     "name": "stdout",
     "output_type": "stream",
     "text": [
      "Epoch: 103/150 | Loss: 0.6652 | Accuracy: 0.7862 \n",
      "\n"
     ]
    },
    {
     "name": "stderr",
     "output_type": "stream",
     "text": [
      "Train [104/150] ... : 100%|██████████| 469/469 [00:06<00:00, 70.58it/s]\n"
     ]
    },
    {
     "name": "stdout",
     "output_type": "stream",
     "text": [
      "Epoch: 104/150 | Loss: 0.6573 | Accuracy: 0.7901 \n",
      "\n"
     ]
    },
    {
     "name": "stderr",
     "output_type": "stream",
     "text": [
      "Train [105/150] ... : 100%|██████████| 469/469 [00:06<00:00, 71.42it/s]\n"
     ]
    },
    {
     "name": "stdout",
     "output_type": "stream",
     "text": [
      "Epoch: 105/150 | Loss: 0.6637 | Accuracy: 0.7857 \n",
      "\n"
     ]
    },
    {
     "name": "stderr",
     "output_type": "stream",
     "text": [
      "Train [106/150] ... : 100%|██████████| 469/469 [00:06<00:00, 71.96it/s]\n"
     ]
    },
    {
     "name": "stdout",
     "output_type": "stream",
     "text": [
      "Epoch: 106/150 | Loss: 0.6571 | Accuracy: 0.7882 \n",
      "\n"
     ]
    },
    {
     "name": "stderr",
     "output_type": "stream",
     "text": [
      "Train [107/150] ... : 100%|██████████| 469/469 [00:06<00:00, 71.09it/s]\n"
     ]
    },
    {
     "name": "stdout",
     "output_type": "stream",
     "text": [
      "Epoch: 107/150 | Loss: 0.6568 | Accuracy: 0.7893 \n",
      "\n"
     ]
    },
    {
     "name": "stderr",
     "output_type": "stream",
     "text": [
      "Train [108/150] ... : 100%|██████████| 469/469 [00:06<00:00, 69.76it/s]\n"
     ]
    },
    {
     "name": "stdout",
     "output_type": "stream",
     "text": [
      "Epoch: 108/150 | Loss: 0.6522 | Accuracy: 0.7918 \n",
      "\n"
     ]
    },
    {
     "name": "stderr",
     "output_type": "stream",
     "text": [
      "Train [109/150] ... : 100%|██████████| 469/469 [00:06<00:00, 70.73it/s]\n"
     ]
    },
    {
     "name": "stdout",
     "output_type": "stream",
     "text": [
      "Epoch: 109/150 | Loss: 0.6485 | Accuracy: 0.7902 \n",
      "\n"
     ]
    },
    {
     "name": "stderr",
     "output_type": "stream",
     "text": [
      "Train [110/150] ... : 100%|██████████| 469/469 [00:06<00:00, 71.76it/s]\n"
     ]
    },
    {
     "name": "stdout",
     "output_type": "stream",
     "text": [
      "Epoch: 110/150 | Loss: 0.6533 | Accuracy: 0.7899 \n",
      "\n"
     ]
    },
    {
     "name": "stderr",
     "output_type": "stream",
     "text": [
      "Train [111/150] ... : 100%|██████████| 469/469 [00:06<00:00, 70.02it/s]\n"
     ]
    },
    {
     "name": "stdout",
     "output_type": "stream",
     "text": [
      "Epoch: 111/150 | Loss: 0.6508 | Accuracy: 0.7899 \n",
      "\n"
     ]
    },
    {
     "name": "stderr",
     "output_type": "stream",
     "text": [
      "Train [112/150] ... : 100%|██████████| 469/469 [00:07<00:00, 61.12it/s]\n"
     ]
    },
    {
     "name": "stdout",
     "output_type": "stream",
     "text": [
      "Epoch: 112/150 | Loss: 0.6446 | Accuracy: 0.7921 \n",
      "\n"
     ]
    },
    {
     "name": "stderr",
     "output_type": "stream",
     "text": [
      "Train [113/150] ... : 100%|██████████| 469/469 [00:07<00:00, 61.12it/s]\n"
     ]
    },
    {
     "name": "stdout",
     "output_type": "stream",
     "text": [
      "Epoch: 113/150 | Loss: 0.6503 | Accuracy: 0.7922 \n",
      "\n"
     ]
    },
    {
     "name": "stderr",
     "output_type": "stream",
     "text": [
      "Train [114/150] ... : 100%|██████████| 469/469 [00:07<00:00, 61.94it/s]\n"
     ]
    },
    {
     "name": "stdout",
     "output_type": "stream",
     "text": [
      "Epoch: 114/150 | Loss: 0.6397 | Accuracy: 0.7945 \n",
      "\n"
     ]
    },
    {
     "name": "stderr",
     "output_type": "stream",
     "text": [
      "Train [115/150] ... : 100%|██████████| 469/469 [00:07<00:00, 65.86it/s]\n"
     ]
    },
    {
     "name": "stdout",
     "output_type": "stream",
     "text": [
      "Epoch: 115/150 | Loss: 0.6421 | Accuracy: 0.7946 \n",
      "\n"
     ]
    },
    {
     "name": "stderr",
     "output_type": "stream",
     "text": [
      "Train [116/150] ... : 100%|██████████| 469/469 [00:06<00:00, 70.30it/s]\n"
     ]
    },
    {
     "name": "stdout",
     "output_type": "stream",
     "text": [
      "Epoch: 116/150 | Loss: 0.6396 | Accuracy: 0.7938 \n",
      "\n"
     ]
    },
    {
     "name": "stderr",
     "output_type": "stream",
     "text": [
      "Train [117/150] ... : 100%|██████████| 469/469 [00:06<00:00, 69.04it/s]\n"
     ]
    },
    {
     "name": "stdout",
     "output_type": "stream",
     "text": [
      "Epoch: 117/150 | Loss: 0.6371 | Accuracy: 0.7942 \n",
      "\n"
     ]
    },
    {
     "name": "stderr",
     "output_type": "stream",
     "text": [
      "Train [118/150] ... : 100%|██████████| 469/469 [00:06<00:00, 72.24it/s]\n"
     ]
    },
    {
     "name": "stdout",
     "output_type": "stream",
     "text": [
      "Epoch: 118/150 | Loss: 0.6363 | Accuracy: 0.7947 \n",
      "\n"
     ]
    },
    {
     "name": "stderr",
     "output_type": "stream",
     "text": [
      "Train [119/150] ... : 100%|██████████| 469/469 [00:06<00:00, 71.30it/s]\n"
     ]
    },
    {
     "name": "stdout",
     "output_type": "stream",
     "text": [
      "Epoch: 119/150 | Loss: 0.6334 | Accuracy: 0.7967 \n",
      "\n"
     ]
    },
    {
     "name": "stderr",
     "output_type": "stream",
     "text": [
      "Train [120/150] ... : 100%|██████████| 469/469 [00:06<00:00, 68.33it/s]\n"
     ]
    },
    {
     "name": "stdout",
     "output_type": "stream",
     "text": [
      "Epoch: 120/150 | Loss: 0.6330 | Accuracy: 0.7969 \n",
      "\n"
     ]
    },
    {
     "name": "stderr",
     "output_type": "stream",
     "text": [
      "Train [121/150] ... : 100%|██████████| 469/469 [00:06<00:00, 71.24it/s]\n"
     ]
    },
    {
     "name": "stdout",
     "output_type": "stream",
     "text": [
      "Epoch: 121/150 | Loss: 0.6285 | Accuracy: 0.7975 \n",
      "\n"
     ]
    },
    {
     "name": "stderr",
     "output_type": "stream",
     "text": [
      "Train [122/150] ... : 100%|██████████| 469/469 [00:06<00:00, 71.43it/s]\n"
     ]
    },
    {
     "name": "stdout",
     "output_type": "stream",
     "text": [
      "Epoch: 122/150 | Loss: 0.6309 | Accuracy: 0.7973 \n",
      "\n"
     ]
    },
    {
     "name": "stderr",
     "output_type": "stream",
     "text": [
      "Train [123/150] ... : 100%|██████████| 469/469 [00:06<00:00, 70.93it/s]\n"
     ]
    },
    {
     "name": "stdout",
     "output_type": "stream",
     "text": [
      "Epoch: 123/150 | Loss: 0.6301 | Accuracy: 0.7982 \n",
      "\n"
     ]
    },
    {
     "name": "stderr",
     "output_type": "stream",
     "text": [
      "Train [124/150] ... : 100%|██████████| 469/469 [00:06<00:00, 69.93it/s]\n"
     ]
    },
    {
     "name": "stdout",
     "output_type": "stream",
     "text": [
      "Epoch: 124/150 | Loss: 0.6288 | Accuracy: 0.7981 \n",
      "\n"
     ]
    },
    {
     "name": "stderr",
     "output_type": "stream",
     "text": [
      "Train [125/150] ... : 100%|██████████| 469/469 [00:06<00:00, 71.39it/s]\n"
     ]
    },
    {
     "name": "stdout",
     "output_type": "stream",
     "text": [
      "Epoch: 125/150 | Loss: 0.6284 | Accuracy: 0.7990 \n",
      "\n"
     ]
    },
    {
     "name": "stderr",
     "output_type": "stream",
     "text": [
      "Train [126/150] ... : 100%|██████████| 469/469 [00:06<00:00, 70.52it/s]\n"
     ]
    },
    {
     "name": "stdout",
     "output_type": "stream",
     "text": [
      "Epoch: 126/150 | Loss: 0.6238 | Accuracy: 0.7997 \n",
      "\n"
     ]
    },
    {
     "name": "stderr",
     "output_type": "stream",
     "text": [
      "Train [127/150] ... : 100%|██████████| 469/469 [00:06<00:00, 72.24it/s]\n"
     ]
    },
    {
     "name": "stdout",
     "output_type": "stream",
     "text": [
      "Epoch: 127/150 | Loss: 0.6247 | Accuracy: 0.8002 \n",
      "\n"
     ]
    },
    {
     "name": "stderr",
     "output_type": "stream",
     "text": [
      "Train [128/150] ... : 100%|██████████| 469/469 [00:06<00:00, 71.73it/s]\n"
     ]
    },
    {
     "name": "stdout",
     "output_type": "stream",
     "text": [
      "Epoch: 128/150 | Loss: 0.6233 | Accuracy: 0.8003 \n",
      "\n"
     ]
    },
    {
     "name": "stderr",
     "output_type": "stream",
     "text": [
      "Train [129/150] ... : 100%|██████████| 469/469 [00:06<00:00, 72.59it/s]\n"
     ]
    },
    {
     "name": "stdout",
     "output_type": "stream",
     "text": [
      "Epoch: 129/150 | Loss: 0.6264 | Accuracy: 0.7992 \n",
      "\n"
     ]
    },
    {
     "name": "stderr",
     "output_type": "stream",
     "text": [
      "Train [130/150] ... : 100%|██████████| 469/469 [00:06<00:00, 72.37it/s]\n"
     ]
    },
    {
     "name": "stdout",
     "output_type": "stream",
     "text": [
      "Epoch: 130/150 | Loss: 0.6154 | Accuracy: 0.8023 \n",
      "\n"
     ]
    },
    {
     "name": "stderr",
     "output_type": "stream",
     "text": [
      "Train [131/150] ... : 100%|██████████| 469/469 [00:06<00:00, 71.15it/s]\n"
     ]
    },
    {
     "name": "stdout",
     "output_type": "stream",
     "text": [
      "Epoch: 131/150 | Loss: 0.6198 | Accuracy: 0.8018 \n",
      "\n"
     ]
    },
    {
     "name": "stderr",
     "output_type": "stream",
     "text": [
      "Train [132/150] ... : 100%|██████████| 469/469 [00:06<00:00, 70.64it/s]\n"
     ]
    },
    {
     "name": "stdout",
     "output_type": "stream",
     "text": [
      "Epoch: 132/150 | Loss: 0.6177 | Accuracy: 0.8029 \n",
      "\n"
     ]
    },
    {
     "name": "stderr",
     "output_type": "stream",
     "text": [
      "Train [133/150] ... : 100%|██████████| 469/469 [00:06<00:00, 71.06it/s]\n"
     ]
    },
    {
     "name": "stdout",
     "output_type": "stream",
     "text": [
      "Epoch: 133/150 | Loss: 0.6155 | Accuracy: 0.8037 \n",
      "\n"
     ]
    },
    {
     "name": "stderr",
     "output_type": "stream",
     "text": [
      "Train [134/150] ... : 100%|██████████| 469/469 [00:06<00:00, 67.09it/s]\n"
     ]
    },
    {
     "name": "stdout",
     "output_type": "stream",
     "text": [
      "Epoch: 134/150 | Loss: 0.6140 | Accuracy: 0.8016 \n",
      "\n"
     ]
    },
    {
     "name": "stderr",
     "output_type": "stream",
     "text": [
      "Train [135/150] ... : 100%|██████████| 469/469 [00:06<00:00, 70.13it/s]\n"
     ]
    },
    {
     "name": "stdout",
     "output_type": "stream",
     "text": [
      "Epoch: 135/150 | Loss: 0.6146 | Accuracy: 0.8030 \n",
      "\n"
     ]
    },
    {
     "name": "stderr",
     "output_type": "stream",
     "text": [
      "Train [136/150] ... : 100%|██████████| 469/469 [00:06<00:00, 71.91it/s]\n"
     ]
    },
    {
     "name": "stdout",
     "output_type": "stream",
     "text": [
      "Epoch: 136/150 | Loss: 0.6082 | Accuracy: 0.8057 \n",
      "\n"
     ]
    },
    {
     "name": "stderr",
     "output_type": "stream",
     "text": [
      "Train [137/150] ... : 100%|██████████| 469/469 [00:06<00:00, 71.77it/s]\n"
     ]
    },
    {
     "name": "stdout",
     "output_type": "stream",
     "text": [
      "Epoch: 137/150 | Loss: 0.6093 | Accuracy: 0.8059 \n",
      "\n"
     ]
    },
    {
     "name": "stderr",
     "output_type": "stream",
     "text": [
      "Train [138/150] ... : 100%|██████████| 469/469 [00:06<00:00, 69.52it/s]\n"
     ]
    },
    {
     "name": "stdout",
     "output_type": "stream",
     "text": [
      "Epoch: 138/150 | Loss: 0.6057 | Accuracy: 0.8058 \n",
      "\n"
     ]
    },
    {
     "name": "stderr",
     "output_type": "stream",
     "text": [
      "Train [139/150] ... : 100%|██████████| 469/469 [00:06<00:00, 70.71it/s]\n"
     ]
    },
    {
     "name": "stdout",
     "output_type": "stream",
     "text": [
      "Epoch: 139/150 | Loss: 0.6090 | Accuracy: 0.8051 \n",
      "\n"
     ]
    },
    {
     "name": "stderr",
     "output_type": "stream",
     "text": [
      "Train [140/150] ... : 100%|██████████| 469/469 [00:06<00:00, 71.93it/s]\n"
     ]
    },
    {
     "name": "stdout",
     "output_type": "stream",
     "text": [
      "Epoch: 140/150 | Loss: 0.6063 | Accuracy: 0.8068 \n",
      "\n"
     ]
    },
    {
     "name": "stderr",
     "output_type": "stream",
     "text": [
      "Train [141/150] ... : 100%|██████████| 469/469 [00:06<00:00, 72.08it/s]\n"
     ]
    },
    {
     "name": "stdout",
     "output_type": "stream",
     "text": [
      "Epoch: 141/150 | Loss: 0.6005 | Accuracy: 0.8072 \n",
      "\n"
     ]
    },
    {
     "name": "stderr",
     "output_type": "stream",
     "text": [
      "Train [142/150] ... : 100%|██████████| 469/469 [00:06<00:00, 69.36it/s]\n"
     ]
    },
    {
     "name": "stdout",
     "output_type": "stream",
     "text": [
      "Epoch: 142/150 | Loss: 0.6059 | Accuracy: 0.8059 \n",
      "\n"
     ]
    },
    {
     "name": "stderr",
     "output_type": "stream",
     "text": [
      "Train [143/150] ... : 100%|██████████| 469/469 [00:06<00:00, 70.57it/s]\n"
     ]
    },
    {
     "name": "stdout",
     "output_type": "stream",
     "text": [
      "Epoch: 143/150 | Loss: 0.5992 | Accuracy: 0.8088 \n",
      "\n"
     ]
    },
    {
     "name": "stderr",
     "output_type": "stream",
     "text": [
      "Train [144/150] ... : 100%|██████████| 469/469 [00:06<00:00, 72.89it/s]\n"
     ]
    },
    {
     "name": "stdout",
     "output_type": "stream",
     "text": [
      "Epoch: 144/150 | Loss: 0.6038 | Accuracy: 0.8058 \n",
      "\n"
     ]
    },
    {
     "name": "stderr",
     "output_type": "stream",
     "text": [
      "Train [145/150] ... : 100%|██████████| 469/469 [00:06<00:00, 71.82it/s]\n"
     ]
    },
    {
     "name": "stdout",
     "output_type": "stream",
     "text": [
      "Epoch: 145/150 | Loss: 0.6003 | Accuracy: 0.8082 \n",
      "\n"
     ]
    },
    {
     "name": "stderr",
     "output_type": "stream",
     "text": [
      "Train [146/150] ... : 100%|██████████| 469/469 [00:06<00:00, 69.42it/s]\n"
     ]
    },
    {
     "name": "stdout",
     "output_type": "stream",
     "text": [
      "Epoch: 146/150 | Loss: 0.5966 | Accuracy: 0.8100 \n",
      "\n"
     ]
    },
    {
     "name": "stderr",
     "output_type": "stream",
     "text": [
      "Train [147/150] ... : 100%|██████████| 469/469 [00:06<00:00, 71.42it/s]\n"
     ]
    },
    {
     "name": "stdout",
     "output_type": "stream",
     "text": [
      "Epoch: 147/150 | Loss: 0.5938 | Accuracy: 0.8121 \n",
      "\n"
     ]
    },
    {
     "name": "stderr",
     "output_type": "stream",
     "text": [
      "Train [148/150] ... : 100%|██████████| 469/469 [00:06<00:00, 70.59it/s]\n"
     ]
    },
    {
     "name": "stdout",
     "output_type": "stream",
     "text": [
      "Epoch: 148/150 | Loss: 0.5941 | Accuracy: 0.8108 \n",
      "\n"
     ]
    },
    {
     "name": "stderr",
     "output_type": "stream",
     "text": [
      "Train [149/150] ... : 100%|██████████| 469/469 [00:06<00:00, 69.74it/s]\n"
     ]
    },
    {
     "name": "stdout",
     "output_type": "stream",
     "text": [
      "Epoch: 149/150 | Loss: 0.5925 | Accuracy: 0.8103 \n",
      "\n"
     ]
    },
    {
     "name": "stderr",
     "output_type": "stream",
     "text": [
      "Train [150/150] ... : 100%|██████████| 469/469 [00:06<00:00, 70.85it/s]"
     ]
    },
    {
     "name": "stdout",
     "output_type": "stream",
     "text": [
      "Epoch: 150/150 | Loss: 0.5958 | Accuracy: 0.8113 \n",
      "\n"
     ]
    },
    {
     "name": "stderr",
     "output_type": "stream",
     "text": [
      "\n"
     ]
    }
   ],
   "source": [
    "model.to(DEVICE)\n",
    "\n",
    "train_losses = list()\n",
    "train_acc = list()\n",
    "\n",
    "# wandb for everything - grad and params\n",
    "wandb_run.watch(model, log='all', log_freq=10)\n",
    "\n",
    "with profile(\n",
    "  activities=[ProfilerActivity.CPU],\n",
    "  schedule=torch.profiler.schedule(wait=1, warmup=1, active=3, repeat=1),\n",
    "  on_trace_ready=torch.profiler.tensorboard_trace_handler(\"./profiler_logs\"),\n",
    "  record_shapes=True,\n",
    "  profile_memory=True,\n",
    "  with_stack=True\n",
    ") as prof:\n",
    "  \n",
    "  # train loop\n",
    "  for epoch in range(EPOCHS):\n",
    "\n",
    "    model.train()\n",
    "    epoch_loss = 0\n",
    "    epoch_acc = 0\n",
    "    train_total = 0\n",
    "\n",
    "    for batch in tqdm(train_loader, desc=f\"Train [{epoch+1}/{EPOCHS}] ... \"):\n",
    "      optimizer.zero_grad()\n",
    "\n",
    "      images, labels = batch\n",
    "      images = images.to(DEVICE)\n",
    "      labels = labels.to(DEVICE)\n",
    "\n",
    "      with record_function(\"forward_pass\"):\n",
    "        outputs = model(images)\n",
    "\n",
    "      loss = loss_func(outputs, labels)\n",
    "\n",
    "      with record_function(\"backward_pass\"):\n",
    "        loss.backward()\n",
    "\n",
    "      optimizer.step()\n",
    "\n",
    "      # metrics\n",
    "      epoch_loss += loss.item() * labels.size(0)\n",
    "\n",
    "      acc = torch.argmax(outputs, dim=1)\n",
    "      epoch_acc += (acc == labels).sum().item()\n",
    "\n",
    "      train_total += labels.size(0)\n",
    "\n",
    "    # \n",
    "    # evaluate - i'll get some data from training, ~ (5-10)k for evaluation while training, it cool\n",
    "\n",
    "    # metrics\n",
    "    # \n",
    "    el = epoch_loss / train_total\n",
    "    ea = epoch_acc / train_total\n",
    "\n",
    "    train_losses.append(el)\n",
    "    train_acc.append(ea)\n",
    "\n",
    "    print(f\"Epoch: {epoch+1}/{EPOCHS} | Loss: {el:.4f} | Accuracy: {ea:.4f} \\n\")\n",
    "    wandb_run.log({'epoch': epoch+1, 'train_loss':el, 'train_accuracy': ea })\n",
    "\n",
    "  # \n",
    "  # \n",
    "  prof.step()"
   ]
  },
  {
   "cell_type": "markdown",
   "id": "28c13013",
   "metadata": {},
   "source": [
    "# Learning Curve"
   ]
  },
  {
   "cell_type": "code",
   "execution_count": 13,
   "id": "8735270d",
   "metadata": {},
   "outputs": [
    {
     "data": {
      "image/png": "[encoded data removed]",
      "text/plain": [
       "<Figure size 1500x500 with 2 Axes>"
      ]
     },
     "metadata": {},
     "output_type": "display_data"
    }
   ],
   "source": [
    "plt.figure(figsize=(15, 5))\n",
    "\n",
    "\n",
    "plt.subplot(1, 2, 1)\n",
    "plt.plot(train_losses, color='red', label='Train loss')\n",
    "plt.title(f\"Losses | Epoch: {EPOCHS}\")\n",
    "plt.ylabel(\"Loss\")\n",
    "plt.xlabel(\"Epoch\")\n",
    "plt.grid()\n",
    "\n",
    "plt.subplot(1, 2, 2)\n",
    "plt.plot(train_acc, color='green', label='Train acc')\n",
    "plt.ylabel(\"Accuracy\")\n",
    "plt.xlabel(\"Epoch\")\n",
    "plt.title(f\"Accuracy | Epoch: {EPOCHS}\")\n",
    "plt.grid()\n",
    "\n",
    "plt.tight_layout()\n",
    "plt.show()"
   ]
  },
  {
   "cell_type": "markdown",
   "id": "c06d415c",
   "metadata": {},
   "source": [
    "# Test"
   ]
  },
  {
   "cell_type": "code",
   "execution_count": 14,
   "id": "dfb516a2",
   "metadata": {},
   "outputs": [
    {
     "name": "stderr",
     "output_type": "stream",
     "text": [
      "Evaluating Model ... : 100%|██████████| 79/79 [00:00<00:00, 105.17it/s]\n"
     ]
    }
   ],
   "source": [
    "model.eval()\n",
    "\n",
    "true_labels = list()\n",
    "pred_labels = list()\n",
    "pred_probs = list()\n",
    "test_loss = 0\n",
    "total_samples = 0\n",
    "\n",
    "with torch.no_grad():\n",
    "\n",
    "  for test_batch in tqdm(test_loader, desc=\"Evaluating Model ... \"):\n",
    "    images, labels = test_batch\n",
    "    images = images.to(DEVICE)\n",
    "    labels = labels.to(DEVICE)\n",
    "\n",
    "    outputs = model(images)\n",
    "\n",
    "    preds = torch.argmax(outputs, dim=1)\n",
    "\n",
    "    # loss\n",
    "    loss = loss_func(outputs, labels)\n",
    "    test_loss += loss.item() * images.size(0)\n",
    "    total_samples += images.size(0)\n",
    "\n",
    "    true_labels.extend(labels.cpu().numpy())\n",
    "    pred_labels.extend(preds.cpu().numpy())\n",
    "    pred_probs.append( nn.functional.softmax(outputs, dim=1).cpu().numpy() ) # wanna get probs of each class, for roc-auc\n",
    "\n",
    "true_labels = np.array(true_labels)\n",
    "pred_labels = np.array(pred_labels)\n",
    "avg_test_loss = test_loss / total_samples\n",
    "pred_probs = np.vstack(pred_probs)\n",
    "\n",
    "roc_auc = roc_auc_score(true_labels, pred_probs, multi_class='ovr', average='macro')"
   ]
  },
  {
   "cell_type": "markdown",
   "id": "fd675536",
   "metadata": {},
   "source": [
    "## Classification Report - ROC AUC Value"
   ]
  },
  {
   "cell_type": "code",
   "execution_count": 15,
   "id": "1ce541e4",
   "metadata": {},
   "outputs": [
    {
     "name": "stdout",
     "output_type": "stream",
     "text": [
      "ROC-AUC : 0.9805\n",
      "              precision    recall  f1-score   support\n",
      "\n",
      "           0       0.84      0.88      0.86       980\n",
      "           1       0.97      0.98      0.97      1135\n",
      "           2       0.69      0.57      0.62      1032\n",
      "           3       0.91      0.77      0.83      1010\n",
      "           4       0.94      0.82      0.87       982\n",
      "           5       0.79      0.81      0.80       892\n",
      "           6       0.69      0.81      0.75       958\n",
      "           7       0.90      0.88      0.89      1028\n",
      "           8       0.81      0.86      0.83       974\n",
      "           9       0.74      0.86      0.79      1009\n",
      "\n",
      "    accuracy                           0.83     10000\n",
      "   macro avg       0.83      0.82      0.82     10000\n",
      "weighted avg       0.83      0.83      0.82     10000\n",
      "\n"
     ]
    }
   ],
   "source": [
    "print(f\"\"\"ROC-AUC : {roc_auc:.4f}\"\"\")\n",
    "\n",
    "print(\n",
    "  classification_report(\n",
    "    true_labels, pred_labels, zero_division=1\n",
    "  )\n",
    ")"
   ]
  },
  {
   "cell_type": "markdown",
   "id": "3dccae75",
   "metadata": {},
   "source": [
    "## Confusion matrix"
   ]
  },
  {
   "cell_type": "code",
   "execution_count": 16,
   "id": "6ff7556c",
   "metadata": {},
   "outputs": [
    {
     "data": {
      "image/png": "[encoded data removed]",
      "text/plain": [
       "<Figure size 1000x600 with 2 Axes>"
      ]
     },
     "metadata": {},
     "output_type": "display_data"
    }
   ],
   "source": [
    "conf = confusion_matrix(true_labels, pred_labels)\n",
    "plt.figure(figsize=(10, 6))\n",
    "sns.heatmap(conf, annot=True, fmt='d')\n",
    "plt.xlabel(\"Pred Label\")\n",
    "plt.ylabel(\"True Label\")\n",
    "plt.title(f\"Mnist Confusion Matrix | Avg Test Loss : {avg_test_loss:.3f} \\n\")\n",
    "plt.show()"
   ]
  },
  {
   "cell_type": "markdown",
   "id": "a40117ca",
   "metadata": {},
   "source": [
    "## Receiver operating characteristic - Area under curve\n",
    "- one vs rest .. because this is multi-class .. to be able to tell, how the model is able to distinguish between the 10 different classes .. from the graph the model is doing well .. line from (0,0) to (1,1) tells that the model is not able to distinguish between false positive rate and true positive rate, but from the graph below the model is well and can distinguish between classes : true positive rate != false positive rate"
   ]
  },
  {
   "cell_type": "code",
   "execution_count": 17,
   "id": "fab57d92",
   "metadata": {},
   "outputs": [
    {
     "data": {
      "image/png": "[encoded data removed]",
      "text/plain": [
       "<Figure size 1000x800 with 1 Axes>"
      ]
     },
     "metadata": {},
     "output_type": "display_data"
    }
   ],
   "source": [
    "\n",
    "\n",
    "plt.figure(figsize=(10, 8))\n",
    "for class_ in range(NUM_CLASSES):\n",
    "  fpr, tpr, _ = roc_curve(true_labels == class_, pred_probs[:, class_])\n",
    "  plt.plot(fpr, tpr, label=f'Class {class_} (AUC = {roc_auc_score(true_labels == class_, pred_probs[:, class_]):.2f})')\n",
    "plt.plot([0, 1], [0, 1], 'k--')\n",
    "plt.xlabel('False Positive Rate')\n",
    "plt.ylabel('True Positive Rate')\n",
    "plt.title(f'ROC Curves <one vs rest> | ROC Value: {roc_auc:.4f} \\n')\n",
    "plt.legend()\n",
    "plt.show()"
   ]
  },
  {
   "cell_type": "markdown",
   "id": "458603dc",
   "metadata": {},
   "source": [
    "# Save to Weight and Biases\n",
    "- Saving predictions and actual test images to W&B\n",
    "- Pytorch Profiler\n",
    "- open nn exhange - onnx\n",
    "- "
   ]
  },
  {
   "cell_type": "code",
   "execution_count": 18,
   "id": "c40b1fef",
   "metadata": {},
   "outputs": [
    {
     "name": "stdout",
     "output_type": "stream",
     "text": [
      "(10000,) (10000,) 10000\n"
     ]
    }
   ],
   "source": [
    "print(\n",
    "  pred_labels.shape, \n",
    "  true_labels.shape, \n",
    "  len(test_loader.dataset) )\n",
    "\n",
    "wandb_pred_table = wandb.Table(columns=[\"Images\", \"Labels\", \"Predicted\"])\n",
    "\n",
    "for (image, label), pred in zip(test_loader.dataset, pred_labels):\n",
    "  image = image * MEAN * STD # de-normalise\n",
    "  image = image.clamp(0,1)\n",
    "  wandb_pred_table.add_data( wandb.Image(image), label, pred )\n",
    "\n",
    "wandb_run.log({\"predictions\": wandb_pred_table})"
   ]
  },
  {
   "cell_type": "code",
   "execution_count": null,
   "id": "03989e73",
   "metadata": {},
   "outputs": [],
   "source": [
    "trace_file = f\"./profiler_logs/trace_{str(uuid.uuid4())}.json\"\n",
    "prof.export_chrome_trace(trace_file)\n",
    "\n",
    "wandb.save(trace_file)\n",
    "\n",
    "artifact = wandb.Artifact('model', type='model')\n",
    "torch.save( model.state_dict(), MODEL_PATH)\n",
    "artifact.add_file(MODEL_PATH)\n",
    "\n",
    "# onnx file\n",
    "onnx_path = \"model.onnx\"\n",
    "\n",
    "model.eval() \n",
    "\n",
    "dummy_input = torch.randn(1, 1, 28, 28).to(DEVICE) \n",
    "\n",
    "torch.onnx.export(\n",
    "  model,\n",
    "  dummy_input,\n",
    "  onnx_path,\n",
    "  export_params=True,\n",
    "  opset_version=11,\n",
    "  do_constant_folding=True,\n",
    "  input_names=['input'],\n",
    "  output_names=['output'],\n",
    "  dynamic_axes={'input': {0: 'batch_size'}, 'output': {0: 'batch_size'}}\n",
    ")\n",
    "artifact.add_file(onnx_path)\n",
    "\n",
    "# \n",
    "wandb.log_artifact(artifact)"
   ]
  },
  {
   "cell_type": "code",
   "execution_count": 20,
   "id": "26dd5d43",
   "metadata": {},
   "outputs": [
    {
     "data": {
      "text/html": [],
      "text/plain": [
       "<IPython.core.display.HTML object>"
      ]
     },
     "metadata": {},
     "output_type": "display_data"
    },
    {
     "data": {
      "text/html": [
       "<br>    <style><br>        .wandb-row {<br>            display: flex;<br>            flex-direction: row;<br>            flex-wrap: wrap;<br>            justify-content: flex-start;<br>            width: 100%;<br>        }<br>        .wandb-col {<br>            display: flex;<br>            flex-direction: column;<br>            flex-basis: 100%;<br>            flex: 1;<br>            padding: 10px;<br>        }<br>    </style><br><div class=\"wandb-row\"><div class=\"wandb-col\"><h3>Run history:</h3><br/><table class=\"wandb\"><tr><td>epoch</td><td>▁▁▁▂▂▂▂▂▂▂▂▂▂▃▃▄▄▄▄▄▅▅▅▅▅▆▆▆▆▆▆▇▇▇▇▇████</td></tr><tr><td>train_accuracy</td><td>▁▃▄▄▄▄▄▅▅▅▆▆▇▇▇▇▇▇▇▇▇▇▇▇▇███████████████</td></tr><tr><td>train_loss</td><td>█▅▅▅▄▄▄▄▃▃▃▃▃▂▂▂▂▂▂▂▂▂▂▂▁▁▁▁▁▁▁▁▁▁▁▁▁▁▁▁</td></tr></table><br/></div><div class=\"wandb-col\"><h3>Run summary:</h3><br/><table class=\"wandb\"><tr><td>epoch</td><td>150</td></tr><tr><td>train_accuracy</td><td>0.81125</td></tr><tr><td>train_loss</td><td>0.59582</td></tr></table><br/></div></div>"
      ],
      "text/plain": [
       "<IPython.core.display.HTML object>"
      ]
     },
     "metadata": {},
     "output_type": "display_data"
    },
    {
     "data": {
      "text/html": [
       " View run <strong style=\"color:#cdcd00\">elated-morning-8</strong> at: <a href='https://wandb.ai/kibs/learn-wandb/runs/buknl29o' target=\"_blank\">https://wandb.ai/kibs/learn-wandb/runs/buknl29o</a><br> View project at: <a href='https://wandb.ai/kibs/learn-wandb' target=\"_blank\">https://wandb.ai/kibs/learn-wandb</a><br>Synced 5 W&B file(s), 1 media file(s), 10005 artifact file(s) and 1 other file(s)"
      ],
      "text/plain": [
       "<IPython.core.display.HTML object>"
      ]
     },
     "metadata": {},
     "output_type": "display_data"
    },
    {
     "data": {
      "text/html": [
       "Find logs at: <code>./wandb/run-20250804_130737-buknl29o/logs</code>"
      ],
      "text/plain": [
       "<IPython.core.display.HTML object>"
      ]
     },
     "metadata": {},
     "output_type": "display_data"
    }
   ],
   "source": [
    "# # end - wandb\n",
    "wandb_run.finish()"
   ]
  }
 ],
 "metadata": {
  "kernelspec": {
   "display_name": "env-",
   "language": "python",
   "name": "python3"
  },
  "language_info": {
   "codemirror_mode": {
    "name": "ipython",
    "version": 3
   },
   "file_extension": ".py",
   "mimetype": "text/x-python",
   "name": "python",
   "nbconvert_exporter": "python",
   "pygments_lexer": "ipython3",
   "version": "3.10.17"
  }
 },
 "nbformat": 4,
 "nbformat_minor": 5
}
